{
 "cells": [
  {
   "cell_type": "markdown",
   "metadata": {},
   "source": [
    "# XML example and exercise\n",
    "****\n",
    "+ study examples of accessing nodes in XML tree structure  \n",
    "+ work on exercise to be completed and submitted\n",
    "****\n",
    "+ reference: https://docs.python.org/2.7/library/xml.etree.elementtree.html\n",
    "+ data source: http://www.dbis.informatik.uni-goettingen.de/Mondial\n",
    "****"
   ]
  },
  {
   "cell_type": "code",
   "execution_count": 1,
   "metadata": {
    "collapsed": true
   },
   "outputs": [],
   "source": [
    "from xml.etree import ElementTree as ET"
   ]
  },
  {
   "cell_type": "markdown",
   "metadata": {},
   "source": [
    "## XML example\n",
    "\n",
    "+ for details about tree traversal and iterators, see https://docs.python.org/2.7/library/xml.etree.elementtree.html"
   ]
  },
  {
   "cell_type": "code",
   "execution_count": 2,
   "metadata": {
    "collapsed": true
   },
   "outputs": [],
   "source": [
    "document_tree = ET.parse( './data/mondial_database_less.xml' )"
   ]
  },
  {
   "cell_type": "code",
   "execution_count": 3,
   "metadata": {
    "collapsed": false
   },
   "outputs": [
    {
     "name": "stdout",
     "output_type": "stream",
     "text": [
      "Albania\n",
      "Greece\n",
      "Macedonia\n",
      "Serbia\n",
      "Montenegro\n",
      "Kosovo\n",
      "Andorra\n"
     ]
    }
   ],
   "source": [
    "# print names of all countries\n",
    "for child in document_tree.getroot():\n",
    "    print( child.find('name').text)"
   ]
  },
  {
   "cell_type": "code",
   "execution_count": 4,
   "metadata": {
    "collapsed": false
   },
   "outputs": [
    {
     "name": "stdout",
     "output_type": "stream",
     "text": [
      "* Albania:\n",
      "Tirana, Shkodër, Durrës, Vlorë, Elbasan, Korçë\n",
      "* Greece:\n",
      "Komotini, Kavala, Athina, Peiraias, Peristeri, Acharnes, Patra, Kozani, Kerkyra, Ioannina, Thessaloniki, Iraklio, Chania, Ermoupoli, Rhodes, Tripoli, Lamia, Chalkida, Larissa, Volos, Mytilini, Karyes\n",
      "* Macedonia:\n",
      "Skopje, Kumanovo\n",
      "* Serbia:\n",
      "Beograd, Novi Sad, Niš\n",
      "* Montenegro:\n",
      "Podgorica\n",
      "* Kosovo:\n",
      "Prishtine\n",
      "* Andorra:\n",
      "Andorra la Vella\n"
     ]
    }
   ],
   "source": [
    "# print names of all countries and their cities\n",
    "for element in document_tree.iterfind('country'):\n",
    "    print( '* ' + element.find('name').text + ':'),\n",
    "    capitals_string = ''\n",
    "    for subelement in element.getiterator('city'):\n",
    "        capitals_string += subelement.find('name').text + ', '\n",
    "    print( capitals_string[:-2] )"
   ]
  },
  {
   "cell_type": "markdown",
   "metadata": {},
   "source": [
    "****\n",
    "## XML exercise\n",
    "\n",
    "Using data in 'data/mondial_database.xml', the examples above, and refering to https://docs.python.org/2.7/library/xml.etree.elementtree.html, find\n",
    "\n",
    "1. 10 countries with the lowest infant mortality rates\n",
    "2. 10 cities with the largest population\n",
    "3. 10 ethnic groups with the largest overall populations (sum of best/latest estimates over all countries)\n",
    "4. name and country of a) longest river, b) largest lake and c) airport at highest elevation"
   ]
  },
  {
   "cell_type": "markdown",
   "metadata": {},
   "source": [
    "First, import libraries and read the xml file in."
   ]
  },
  {
   "cell_type": "code",
   "execution_count": 5,
   "metadata": {
    "collapsed": true
   },
   "outputs": [],
   "source": [
    "import xml.etree.ElementTree as ET\n",
    "import numpy as np\n",
    "import pandas as pd\n",
    "\n",
    "# read in the 'tree'\n",
    "tree = ET.parse('data/mondial_database.xml')"
   ]
  },
  {
   "cell_type": "markdown",
   "metadata": {
    "collapsed": true
   },
   "source": [
    "# (1) Find the 10 countries with the lowest infant mortality rates\n",
    "My approach is to loop through all countries and get the infant mortality rates (some countries do not have a value). Then I put the results in a dataframe and sort to find the 10 lowest rates."
   ]
  },
  {
   "cell_type": "code",
   "execution_count": 6,
   "metadata": {
    "collapsed": false
   },
   "outputs": [
    {
     "data": {
      "text/html": [
       "<div>\n",
       "<table border=\"1\" class=\"dataframe\">\n",
       "  <thead>\n",
       "    <tr style=\"text-align: right;\">\n",
       "      <th></th>\n",
       "      <th>country</th>\n",
       "      <th>infant_mort</th>\n",
       "    </tr>\n",
       "  </thead>\n",
       "  <tbody>\n",
       "    <tr>\n",
       "      <th>38</th>\n",
       "      <td>Monaco</td>\n",
       "      <td>1.81</td>\n",
       "    </tr>\n",
       "    <tr>\n",
       "      <th>98</th>\n",
       "      <td>Japan</td>\n",
       "      <td>2.13</td>\n",
       "    </tr>\n",
       "    <tr>\n",
       "      <th>117</th>\n",
       "      <td>Bermuda</td>\n",
       "      <td>2.48</td>\n",
       "    </tr>\n",
       "    <tr>\n",
       "      <th>36</th>\n",
       "      <td>Norway</td>\n",
       "      <td>2.48</td>\n",
       "    </tr>\n",
       "    <tr>\n",
       "      <th>106</th>\n",
       "      <td>Singapore</td>\n",
       "      <td>2.53</td>\n",
       "    </tr>\n",
       "    <tr>\n",
       "      <th>37</th>\n",
       "      <td>Sweden</td>\n",
       "      <td>2.60</td>\n",
       "    </tr>\n",
       "    <tr>\n",
       "      <th>10</th>\n",
       "      <td>Czech Republic</td>\n",
       "      <td>2.63</td>\n",
       "    </tr>\n",
       "    <tr>\n",
       "      <th>78</th>\n",
       "      <td>Hong Kong</td>\n",
       "      <td>2.73</td>\n",
       "    </tr>\n",
       "    <tr>\n",
       "      <th>79</th>\n",
       "      <td>Macao</td>\n",
       "      <td>3.13</td>\n",
       "    </tr>\n",
       "    <tr>\n",
       "      <th>44</th>\n",
       "      <td>Iceland</td>\n",
       "      <td>3.15</td>\n",
       "    </tr>\n",
       "  </tbody>\n",
       "</table>\n",
       "</div>"
      ],
      "text/plain": [
       "            country  infant_mort\n",
       "38           Monaco         1.81\n",
       "98            Japan         2.13\n",
       "117         Bermuda         2.48\n",
       "36           Norway         2.48\n",
       "106       Singapore         2.53\n",
       "37           Sweden         2.60\n",
       "10   Czech Republic         2.63\n",
       "78        Hong Kong         2.73\n",
       "79            Macao         3.13\n",
       "44          Iceland         3.15"
      ]
     },
     "execution_count": 6,
     "metadata": {},
     "output_type": "execute_result"
    }
   ],
   "source": [
    "# Make empty lists to store results in\n",
    "country_list  = []\n",
    "inf_mort_list = []\n",
    "\n",
    "# loop through each country\n",
    "for country in tree.findall('country'):\n",
    "    # get country name and add to list\n",
    "    this_country = country.find('name').text\n",
    "    country_list.append(this_country)\n",
    "    # check if there is an 'infant_mortality' for this country\n",
    "    inf_mort_node = country.find('infant_mortality')#.text\n",
    "    # if not, will return 'None' type; put a nan in the list\n",
    "    if inf_mort_node==None:\n",
    "        inf_mort=np.nan\n",
    "        #print('missing')\n",
    "    else:\n",
    "        # if exists, get value\n",
    "        inf_mort = float(inf_mort_node.text)\n",
    "    # add to list\n",
    "    inf_mort_list.append(inf_mort)\n",
    "        \n",
    "# make into a dataframe and sort to find 10 countries w/ lowest rates\n",
    "df = pd.DataFrame({'country':country_list,'infant_mort':inf_mort_list})\n",
    "df.sort_values('infant_mort',).head(10)"
   ]
  },
  {
   "cell_type": "markdown",
   "metadata": {},
   "source": [
    "Some countries did not have an infant mortality value; these are listed below for reference"
   ]
  },
  {
   "cell_type": "code",
   "execution_count": 7,
   "metadata": {
    "collapsed": false
   },
   "outputs": [
    {
     "data": {
      "text/html": [
       "<div>\n",
       "<table border=\"1\" class=\"dataframe\">\n",
       "  <thead>\n",
       "    <tr style=\"text-align: right;\">\n",
       "      <th></th>\n",
       "      <th>country</th>\n",
       "      <th>infant_mort</th>\n",
       "    </tr>\n",
       "  </thead>\n",
       "  <tbody>\n",
       "    <tr>\n",
       "      <th>4</th>\n",
       "      <td>Montenegro</td>\n",
       "      <td>NaN</td>\n",
       "    </tr>\n",
       "    <tr>\n",
       "      <th>5</th>\n",
       "      <td>Kosovo</td>\n",
       "      <td>NaN</td>\n",
       "    </tr>\n",
       "    <tr>\n",
       "      <th>41</th>\n",
       "      <td>Holy See</td>\n",
       "      <td>NaN</td>\n",
       "    </tr>\n",
       "    <tr>\n",
       "      <th>42</th>\n",
       "      <td>Ceuta</td>\n",
       "      <td>NaN</td>\n",
       "    </tr>\n",
       "    <tr>\n",
       "      <th>43</th>\n",
       "      <td>Melilla</td>\n",
       "      <td>NaN</td>\n",
       "    </tr>\n",
       "    <tr>\n",
       "      <th>52</th>\n",
       "      <td>Svalbard</td>\n",
       "      <td>NaN</td>\n",
       "    </tr>\n",
       "    <tr>\n",
       "      <th>82</th>\n",
       "      <td>Christmas Island</td>\n",
       "      <td>NaN</td>\n",
       "    </tr>\n",
       "    <tr>\n",
       "      <th>83</th>\n",
       "      <td>Cocos Islands</td>\n",
       "      <td>NaN</td>\n",
       "    </tr>\n",
       "    <tr>\n",
       "      <th>137</th>\n",
       "      <td>Curacao</td>\n",
       "      <td>NaN</td>\n",
       "    </tr>\n",
       "    <tr>\n",
       "      <th>139</th>\n",
       "      <td>Saint Martin</td>\n",
       "      <td>NaN</td>\n",
       "    </tr>\n",
       "    <tr>\n",
       "      <th>140</th>\n",
       "      <td>Saint Barthelemy</td>\n",
       "      <td>NaN</td>\n",
       "    </tr>\n",
       "    <tr>\n",
       "      <th>162</th>\n",
       "      <td>Niue</td>\n",
       "      <td>NaN</td>\n",
       "    </tr>\n",
       "    <tr>\n",
       "      <th>163</th>\n",
       "      <td>Norfolk Island</td>\n",
       "      <td>NaN</td>\n",
       "    </tr>\n",
       "    <tr>\n",
       "      <th>166</th>\n",
       "      <td>Pitcairn</td>\n",
       "      <td>NaN</td>\n",
       "    </tr>\n",
       "    <tr>\n",
       "      <th>170</th>\n",
       "      <td>Tokelau</td>\n",
       "      <td>NaN</td>\n",
       "    </tr>\n",
       "    <tr>\n",
       "      <th>186</th>\n",
       "      <td>Falkland Islands</td>\n",
       "      <td>NaN</td>\n",
       "    </tr>\n",
       "  </tbody>\n",
       "</table>\n",
       "</div>"
      ],
      "text/plain": [
       "              country  infant_mort\n",
       "4          Montenegro          NaN\n",
       "5              Kosovo          NaN\n",
       "41           Holy See          NaN\n",
       "42              Ceuta          NaN\n",
       "43            Melilla          NaN\n",
       "52           Svalbard          NaN\n",
       "82   Christmas Island          NaN\n",
       "83      Cocos Islands          NaN\n",
       "137           Curacao          NaN\n",
       "139      Saint Martin          NaN\n",
       "140  Saint Barthelemy          NaN\n",
       "162              Niue          NaN\n",
       "163    Norfolk Island          NaN\n",
       "166          Pitcairn          NaN\n",
       "170           Tokelau          NaN\n",
       "186  Falkland Islands          NaN"
      ]
     },
     "execution_count": 7,
     "metadata": {},
     "output_type": "execute_result"
    }
   ],
   "source": [
    "# list countries where there was no infant mortality given\n",
    "df[df.infant_mort.isnull()]"
   ]
  },
  {
   "cell_type": "markdown",
   "metadata": {
    "collapsed": true
   },
   "source": [
    "# (2) Find the 10 cities with the largest population\n",
    "First I loop through and get a list of country, province, year, and population. Some countries do not have provinces listed."
   ]
  },
  {
   "cell_type": "code",
   "execution_count": 8,
   "metadata": {
    "collapsed": false
   },
   "outputs": [
    {
     "data": {
      "text/html": [
       "<div>\n",
       "<table border=\"1\" class=\"dataframe\">\n",
       "  <thead>\n",
       "    <tr style=\"text-align: right;\">\n",
       "      <th></th>\n",
       "      <th>country</th>\n",
       "      <th>province</th>\n",
       "      <th>city</th>\n",
       "      <th>year</th>\n",
       "      <th>population</th>\n",
       "    </tr>\n",
       "  </thead>\n",
       "  <tbody>\n",
       "    <tr>\n",
       "      <th>0</th>\n",
       "      <td>Albania</td>\n",
       "      <td>None</td>\n",
       "      <td>Tirana</td>\n",
       "      <td>1987</td>\n",
       "      <td>192000</td>\n",
       "    </tr>\n",
       "    <tr>\n",
       "      <th>1</th>\n",
       "      <td>Albania</td>\n",
       "      <td>None</td>\n",
       "      <td>Tirana</td>\n",
       "      <td>1990</td>\n",
       "      <td>244153</td>\n",
       "    </tr>\n",
       "    <tr>\n",
       "      <th>2</th>\n",
       "      <td>Albania</td>\n",
       "      <td>None</td>\n",
       "      <td>Tirana</td>\n",
       "      <td>2011</td>\n",
       "      <td>418495</td>\n",
       "    </tr>\n",
       "    <tr>\n",
       "      <th>3</th>\n",
       "      <td>Albania</td>\n",
       "      <td>None</td>\n",
       "      <td>Shkodër</td>\n",
       "      <td>1987</td>\n",
       "      <td>62000</td>\n",
       "    </tr>\n",
       "    <tr>\n",
       "      <th>4</th>\n",
       "      <td>Albania</td>\n",
       "      <td>None</td>\n",
       "      <td>Shkodër</td>\n",
       "      <td>2011</td>\n",
       "      <td>77075</td>\n",
       "    </tr>\n",
       "  </tbody>\n",
       "</table>\n",
       "</div>"
      ],
      "text/plain": [
       "   country province     city  year  population\n",
       "0  Albania     None   Tirana  1987      192000\n",
       "1  Albania     None   Tirana  1990      244153\n",
       "2  Albania     None   Tirana  2011      418495\n",
       "3  Albania     None  Shkodër  1987       62000\n",
       "4  Albania     None  Shkodër  2011       77075"
      ]
     },
     "execution_count": 8,
     "metadata": {},
     "output_type": "execute_result"
    }
   ],
   "source": [
    "population_list = []\n",
    "\n",
    "for country in tree.findall('country'):\n",
    "\n",
    "    #print('\\n')\n",
    "    this_country = country.find('name').text\n",
    "    #print(this_country)\n",
    "    \n",
    "    #print('\\n')\n",
    "    for city in country.getiterator('city'):\n",
    "        city_name = city.find('name').text\n",
    "       # print('city : ' + city_name)\n",
    "       # print(city.attrib)\n",
    "        if 'province' in city.attrib:\n",
    "            prov = city.attrib['province']\n",
    "        else:\n",
    "            prov='None'\n",
    "        \n",
    "        for pop in city.getiterator('population'):\n",
    "            #print('pop')\n",
    "            if pop != None:\n",
    "             #   print(pop.attrib)\n",
    "             #   print(pop.text)\n",
    "                population_list.append([this_country , prov, city_name, int(pop.attrib['year']), int(pop.text)])\n",
    "                \n",
    "pop_df = pd.DataFrame.from_records(population_list,columns=['country','province','city','year','population'])\n",
    "pop_df['population'] = pop_df['population'].astype('int')\n",
    "pop_df.head()"
   ]
  },
  {
   "cell_type": "markdown",
   "metadata": {
    "collapsed": true
   },
   "source": [
    "We have population estimates for different years for each country. I then get the latest year for each city, and extract those rows into a new dataframe. "
   ]
  },
  {
   "cell_type": "code",
   "execution_count": 9,
   "metadata": {
    "collapsed": false
   },
   "outputs": [
    {
     "data": {
      "text/html": [
       "<div>\n",
       "<table border=\"1\" class=\"dataframe\">\n",
       "  <thead>\n",
       "    <tr style=\"text-align: right;\">\n",
       "      <th></th>\n",
       "      <th>country</th>\n",
       "      <th>province</th>\n",
       "      <th>city</th>\n",
       "      <th>year</th>\n",
       "      <th>population</th>\n",
       "    </tr>\n",
       "  </thead>\n",
       "  <tbody>\n",
       "    <tr>\n",
       "      <th>2335</th>\n",
       "      <td>Netherlands</td>\n",
       "      <td>prov-Netherlands-12</td>\n",
       "      <td>'s-Hertogenbosch</td>\n",
       "      <td>2014.0</td>\n",
       "      <td>143822.0</td>\n",
       "    </tr>\n",
       "    <tr>\n",
       "      <th>409</th>\n",
       "      <td>Spain</td>\n",
       "      <td>prov-Spain-13</td>\n",
       "      <td>A Coruña</td>\n",
       "      <td>2011.0</td>\n",
       "      <td>245053.0</td>\n",
       "    </tr>\n",
       "    <tr>\n",
       "      <th>719</th>\n",
       "      <td>Germany</td>\n",
       "      <td>prov-Germany-11</td>\n",
       "      <td>Aachen</td>\n",
       "      <td>2011.0</td>\n",
       "      <td>236420.0</td>\n",
       "    </tr>\n",
       "    <tr>\n",
       "      <th>2755</th>\n",
       "      <td>Denmark</td>\n",
       "      <td>prov-DK-1</td>\n",
       "      <td>Aalborg</td>\n",
       "      <td>2012.0</td>\n",
       "      <td>104885.0</td>\n",
       "    </tr>\n",
       "    <tr>\n",
       "      <th>8841</th>\n",
       "      <td>Nigeria</td>\n",
       "      <td>prov-WAN-1</td>\n",
       "      <td>Aba</td>\n",
       "      <td>1991.0</td>\n",
       "      <td>500183.0</td>\n",
       "    </tr>\n",
       "  </tbody>\n",
       "</table>\n",
       "</div>"
      ],
      "text/plain": [
       "          country             province              city    year  population\n",
       "2335  Netherlands  prov-Netherlands-12  's-Hertogenbosch  2014.0    143822.0\n",
       "409         Spain        prov-Spain-13          A Coruña  2011.0    245053.0\n",
       "719       Germany      prov-Germany-11            Aachen  2011.0    236420.0\n",
       "2755      Denmark            prov-DK-1           Aalborg  2012.0    104885.0\n",
       "8841      Nigeria           prov-WAN-1               Aba  1991.0    500183.0"
      ]
     },
     "execution_count": 9,
     "metadata": {},
     "output_type": "execute_result"
    }
   ],
   "source": [
    "# Find latest year for each city\n",
    "b = pop_df.groupby('city').year.max()\n",
    "b.to_dict()\n",
    "\n",
    "# Make a new dataframe with just the latest years for each city.\n",
    "pop_latest = pd.DataFrame(columns=['country','province','city','year','population'])\n",
    "for key in b.keys():\n",
    "    pop_latest = pop_latest.append( pop_df[ (pop_df.city==key) & (pop_df.year==b[key] ) ])\n",
    "pop_latest.head()"
   ]
  },
  {
   "cell_type": "markdown",
   "metadata": {},
   "source": [
    "Finally, we can sort this dataframe and find the top 10 cities."
   ]
  },
  {
   "cell_type": "code",
   "execution_count": 10,
   "metadata": {
    "collapsed": false
   },
   "outputs": [
    {
     "data": {
      "text/html": [
       "<div>\n",
       "<table border=\"1\" class=\"dataframe\">\n",
       "  <thead>\n",
       "    <tr style=\"text-align: right;\">\n",
       "      <th></th>\n",
       "      <th>country</th>\n",
       "      <th>province</th>\n",
       "      <th>city</th>\n",
       "      <th>year</th>\n",
       "      <th>population</th>\n",
       "    </tr>\n",
       "  </thead>\n",
       "  <tbody>\n",
       "    <tr>\n",
       "      <th>3750</th>\n",
       "      <td>China</td>\n",
       "      <td>prov-China-32</td>\n",
       "      <td>Shanghai</td>\n",
       "      <td>2010.0</td>\n",
       "      <td>22315474.0</td>\n",
       "    </tr>\n",
       "    <tr>\n",
       "      <th>2607</th>\n",
       "      <td>Turkey</td>\n",
       "      <td>prov-Turkey-38</td>\n",
       "      <td>Istanbul</td>\n",
       "      <td>2012.0</td>\n",
       "      <td>13710512.0</td>\n",
       "    </tr>\n",
       "    <tr>\n",
       "      <th>4303</th>\n",
       "      <td>India</td>\n",
       "      <td>prov-India-14</td>\n",
       "      <td>Mumbai</td>\n",
       "      <td>2011.0</td>\n",
       "      <td>12442373.0</td>\n",
       "    </tr>\n",
       "    <tr>\n",
       "      <th>1546</th>\n",
       "      <td>Russia</td>\n",
       "      <td>prov-Russia-19</td>\n",
       "      <td>Moskva</td>\n",
       "      <td>2013.0</td>\n",
       "      <td>11979529.0</td>\n",
       "    </tr>\n",
       "    <tr>\n",
       "      <th>3746</th>\n",
       "      <td>China</td>\n",
       "      <td>prov-China-31</td>\n",
       "      <td>Beijing</td>\n",
       "      <td>2010.0</td>\n",
       "      <td>11716620.0</td>\n",
       "    </tr>\n",
       "    <tr>\n",
       "      <th>8208</th>\n",
       "      <td>Brazil</td>\n",
       "      <td>prov-Brazil-25</td>\n",
       "      <td>São Paulo</td>\n",
       "      <td>2010.0</td>\n",
       "      <td>11152344.0</td>\n",
       "    </tr>\n",
       "    <tr>\n",
       "      <th>3754</th>\n",
       "      <td>China</td>\n",
       "      <td>prov-China-33</td>\n",
       "      <td>Tianjin</td>\n",
       "      <td>2010.0</td>\n",
       "      <td>11090314.0</td>\n",
       "    </tr>\n",
       "    <tr>\n",
       "      <th>3364</th>\n",
       "      <td>China</td>\n",
       "      <td>prov-China-5</td>\n",
       "      <td>Guangzhou</td>\n",
       "      <td>2010.0</td>\n",
       "      <td>11071424.0</td>\n",
       "    </tr>\n",
       "    <tr>\n",
       "      <th>4399</th>\n",
       "      <td>India</td>\n",
       "      <td>prov-India-32</td>\n",
       "      <td>Delhi</td>\n",
       "      <td>2011.0</td>\n",
       "      <td>11034555.0</td>\n",
       "    </tr>\n",
       "    <tr>\n",
       "      <th>3371</th>\n",
       "      <td>China</td>\n",
       "      <td>prov-China-5</td>\n",
       "      <td>Shenzhen</td>\n",
       "      <td>2010.0</td>\n",
       "      <td>10358381.0</td>\n",
       "    </tr>\n",
       "  </tbody>\n",
       "</table>\n",
       "</div>"
      ],
      "text/plain": [
       "     country        province       city    year  population\n",
       "3750   China   prov-China-32   Shanghai  2010.0  22315474.0\n",
       "2607  Turkey  prov-Turkey-38   Istanbul  2012.0  13710512.0\n",
       "4303   India   prov-India-14     Mumbai  2011.0  12442373.0\n",
       "1546  Russia  prov-Russia-19     Moskva  2013.0  11979529.0\n",
       "3746   China   prov-China-31    Beijing  2010.0  11716620.0\n",
       "8208  Brazil  prov-Brazil-25  São Paulo  2010.0  11152344.0\n",
       "3754   China   prov-China-33    Tianjin  2010.0  11090314.0\n",
       "3364   China    prov-China-5  Guangzhou  2010.0  11071424.0\n",
       "4399   India   prov-India-32      Delhi  2011.0  11034555.0\n",
       "3371   China    prov-China-5   Shenzhen  2010.0  10358381.0"
      ]
     },
     "execution_count": 10,
     "metadata": {},
     "output_type": "execute_result"
    }
   ],
   "source": [
    "pop_latest.sort_values('population',ascending=False).head(10)"
   ]
  },
  {
   "cell_type": "markdown",
   "metadata": {},
   "source": [
    "# (3) Find the 10 ethnic groups with the largest overall populations (sum of best/latest estimates over all countries)\n",
    "I use a similar approach as for the 1st question. I loop over countries, getting populations for each ethnic group listed. The ethnic group populations are given as percentages, so I multiply by the country's total population (from most recent year) to get the ethnic group populations."
   ]
  },
  {
   "cell_type": "code",
   "execution_count": 11,
   "metadata": {
    "collapsed": false
   },
   "outputs": [
    {
     "data": {
      "text/html": [
       "<div>\n",
       "<table border=\"1\" class=\"dataframe\">\n",
       "  <thead>\n",
       "    <tr style=\"text-align: right;\">\n",
       "      <th></th>\n",
       "      <th>country</th>\n",
       "      <th>ethnic_group</th>\n",
       "      <th>population</th>\n",
       "    </tr>\n",
       "  </thead>\n",
       "  <tbody>\n",
       "    <tr>\n",
       "      <th>0</th>\n",
       "      <td>Albania</td>\n",
       "      <td>Albanian</td>\n",
       "      <td>2.660131e+06</td>\n",
       "    </tr>\n",
       "    <tr>\n",
       "      <th>1</th>\n",
       "      <td>Albania</td>\n",
       "      <td>Greek</td>\n",
       "      <td>8.400414e+04</td>\n",
       "    </tr>\n",
       "    <tr>\n",
       "      <th>2</th>\n",
       "      <td>Greece</td>\n",
       "      <td>Greek</td>\n",
       "      <td>1.005915e+07</td>\n",
       "    </tr>\n",
       "    <tr>\n",
       "      <th>3</th>\n",
       "      <td>Macedonia</td>\n",
       "      <td>Macedonian</td>\n",
       "      <td>1.322388e+06</td>\n",
       "    </tr>\n",
       "    <tr>\n",
       "      <th>4</th>\n",
       "      <td>Macedonia</td>\n",
       "      <td>Albanian</td>\n",
       "      <td>5.190681e+05</td>\n",
       "    </tr>\n",
       "  </tbody>\n",
       "</table>\n",
       "</div>"
      ],
      "text/plain": [
       "     country ethnic_group    population\n",
       "0    Albania     Albanian  2.660131e+06\n",
       "1    Albania        Greek  8.400414e+04\n",
       "2     Greece        Greek  1.005915e+07\n",
       "3  Macedonia   Macedonian  1.322388e+06\n",
       "4  Macedonia     Albanian  5.190681e+05"
      ]
     },
     "execution_count": 11,
     "metadata": {},
     "output_type": "execute_result"
    }
   ],
   "source": [
    "\n",
    "eth_list = []\n",
    "\n",
    "for country in tree.findall('country'):\n",
    "    #print('\\n')\n",
    "    this_country = country.find('name').text\n",
    "    #print('country: ' + this_country)\n",
    "    \n",
    "    # find the population from the most recent year\n",
    "    latest_year = 0\n",
    "    the_pop = []\n",
    "    for popel in country.findall('population'):  \n",
    "        # use most recent year for population\n",
    "        if int(popel.attrib['year'])>latest_year:\n",
    "            th_year=popel.attrib['year']\n",
    "            the_pop=popel.text\n",
    "    #print('latest year for pop is ' + th_year)\n",
    "    #print('total pop for ' + th_year + ' is ' + the_pop)\n",
    "    \n",
    "    for eth in country.getiterator('ethnicgroup'):\n",
    "        #print('ethnic group: ' + eth.text)\n",
    "        #print(eth.attrib)\n",
    "        eth_list.append([this_country, eth.text, float(eth.attrib['percentage'])*float(the_pop)/100 ])\n",
    "        \n",
    "eth_df = pd.DataFrame.from_records(eth_list,columns=['country','ethnic_group','population'])\n",
    "eth_df.head()"
   ]
  },
  {
   "cell_type": "markdown",
   "metadata": {
    "collapsed": false
   },
   "source": [
    "Finally, I group by ethnic group, sum populations (some groups appear in multiple countries), and sort."
   ]
  },
  {
   "cell_type": "code",
   "execution_count": 12,
   "metadata": {
    "collapsed": false
   },
   "outputs": [
    {
     "data": {
      "text/plain": [
       "ethnic_group\n",
       "Han Chinese    1.245059e+09\n",
       "Indo-Aryan     8.718156e+08\n",
       "European       4.948722e+08\n",
       "African        3.183251e+08\n",
       "Dravidian      3.027137e+08\n",
       "Mestizo        1.577344e+08\n",
       "Bengali        1.467769e+08\n",
       "Russian        1.318570e+08\n",
       "Japanese       1.265342e+08\n",
       "Malay          1.219936e+08\n",
       "Name: population, dtype: float64"
      ]
     },
     "execution_count": 12,
     "metadata": {},
     "output_type": "execute_result"
    }
   ],
   "source": [
    "eth_df.groupby('ethnic_group').population.sum().sort_values(ascending=False).head(10)"
   ]
  },
  {
   "cell_type": "markdown",
   "metadata": {},
   "source": [
    "# (4) Find the name and country of a) longest river, b) largest lake and c) airport at highest elevation"
   ]
  },
  {
   "cell_type": "markdown",
   "metadata": {},
   "source": [
    "The country codes are given for rivers, lakes, and airports. So first i'll make a dictionary of country names and codes, so we can get the full country names for the answers to the questions."
   ]
  },
  {
   "cell_type": "code",
   "execution_count": 13,
   "metadata": {
    "collapsed": false
   },
   "outputs": [
    {
     "data": {
      "text/plain": [
       "{'A': 'Austria',\n",
       " 'AFG': 'Afghanistan',\n",
       " 'AG': 'Antigua and Barbuda',\n",
       " 'AL': 'Albania',\n",
       " 'AMSA': 'American Samoa',\n",
       " 'AND': 'Andorra',\n",
       " 'ANG': 'Angola',\n",
       " 'ARM': 'Armenia',\n",
       " 'ARU': 'Aruba',\n",
       " 'AUS': 'Australia',\n",
       " 'AXA': 'Anguilla',\n",
       " 'AZ': 'Azerbaijan',\n",
       " 'B': 'Belgium',\n",
       " 'BD': 'Bangladesh',\n",
       " 'BDS': 'Barbados',\n",
       " 'BEN': 'Benin',\n",
       " 'BERM': 'Bermuda',\n",
       " 'BF': 'Burkina Faso',\n",
       " 'BG': 'Bulgaria',\n",
       " 'BHT': 'Bhutan',\n",
       " 'BI': 'Burundi',\n",
       " 'BIH': 'Bosnia and Herzegovina',\n",
       " 'BOL': 'Bolivia',\n",
       " 'BR': 'Brazil',\n",
       " 'BRN': 'Bahrain',\n",
       " 'BRU': 'Brunei',\n",
       " 'BS': 'Bahamas',\n",
       " 'BVIR': 'British Virgin Islands',\n",
       " 'BY': 'Belarus',\n",
       " 'BZ': 'Belize',\n",
       " 'C': 'Cuba',\n",
       " 'CAM': 'Cameroon',\n",
       " 'CAYM': 'Cayman Islands',\n",
       " 'CDN': 'Canada',\n",
       " 'CEU': 'Ceuta',\n",
       " 'CH': 'Switzerland',\n",
       " 'CI': 'Cote dIvoire',\n",
       " 'CL': 'Sri Lanka',\n",
       " 'CN': 'China',\n",
       " 'CO': 'Colombia',\n",
       " 'COCO': 'Cocos Islands',\n",
       " 'COM': 'Comoros',\n",
       " 'COOK': 'Cook Islands',\n",
       " 'CR': 'Costa Rica',\n",
       " 'CUR': 'Curacao',\n",
       " 'CV': 'Cape Verde',\n",
       " 'CY': 'Cyprus',\n",
       " 'CZ': 'Czech Republic',\n",
       " 'D': 'Germany',\n",
       " 'DJI': 'Djibouti',\n",
       " 'DK': 'Denmark',\n",
       " 'DOM': 'Dominican Republic',\n",
       " 'DZ': 'Algeria',\n",
       " 'E': 'Spain',\n",
       " 'EAK': 'Kenya',\n",
       " 'EAT': 'Tanzania',\n",
       " 'EAU': 'Uganda',\n",
       " 'EC': 'Ecuador',\n",
       " 'ER': 'Eritrea',\n",
       " 'ES': 'El Salvador',\n",
       " 'ET': 'Egypt',\n",
       " 'ETH': 'Ethiopia',\n",
       " 'EW': 'Estonia',\n",
       " 'F': 'France',\n",
       " 'FALK': 'Falkland Islands',\n",
       " 'FARX': 'Faroe Islands',\n",
       " 'FGU': 'French Guiana',\n",
       " 'FJI': 'Fiji',\n",
       " 'FL': 'Liechtenstein',\n",
       " 'FPOL': 'French Polynesia',\n",
       " 'FSM': 'Micronesia',\n",
       " 'G': 'Gabon',\n",
       " 'GAZA': 'Gaza Strip',\n",
       " 'GB': 'United Kingdom',\n",
       " 'GBG': 'Guernsey',\n",
       " 'GBJ': 'Jersey',\n",
       " 'GBM': 'Isle of Man',\n",
       " 'GBZ': 'Gibraltar',\n",
       " 'GCA': 'Guatemala',\n",
       " 'GE': 'Georgia',\n",
       " 'GH': 'Ghana',\n",
       " 'GNB': 'Guinea-Bissau',\n",
       " 'GQ': 'Equatorial Guinea',\n",
       " 'GR': 'Greece',\n",
       " 'GROX': 'Greenland',\n",
       " 'GUAD': 'Guadeloupe',\n",
       " 'GUAM': 'Guam',\n",
       " 'GUY': 'Guyana',\n",
       " 'H': 'Hungary',\n",
       " 'HCA': 'Honduras',\n",
       " 'HELX': 'Saint Helena',\n",
       " 'HONX': 'Hong Kong',\n",
       " 'HR': 'Croatia',\n",
       " 'I': 'Italy',\n",
       " 'IL': 'Israel',\n",
       " 'IND': 'India',\n",
       " 'IR': 'Iran',\n",
       " 'IRL': 'Ireland',\n",
       " 'IRQ': 'Iraq',\n",
       " 'IS': 'Iceland',\n",
       " 'J': 'Japan',\n",
       " 'JA': 'Jamaica',\n",
       " 'JOR': 'Jordan',\n",
       " 'K': 'Cambodia',\n",
       " 'KAZ': 'Kazakhstan',\n",
       " 'KGZ': 'Kyrgyzstan',\n",
       " 'KIR': 'Kiribati',\n",
       " 'KN': 'Saint Kitts and Nevis',\n",
       " 'KOS': 'Kosovo',\n",
       " 'KWT': 'Kuwait',\n",
       " 'L': 'Luxembourg',\n",
       " 'LAO': 'Laos',\n",
       " 'LAR': 'Libya',\n",
       " 'LB': 'Liberia',\n",
       " 'LS': 'Lesotho',\n",
       " 'LT': 'Lithuania',\n",
       " 'LV': 'Latvia',\n",
       " 'M': 'Malta',\n",
       " 'MA': 'Morocco',\n",
       " 'MACX': 'Macao',\n",
       " 'MAL': 'Malaysia',\n",
       " 'MART': 'Martinique',\n",
       " 'MAYO': 'Mayotte',\n",
       " 'MC': 'Monaco',\n",
       " 'MD': 'Moldova',\n",
       " 'MEL': 'Melilla',\n",
       " 'MEX': 'Mexico',\n",
       " 'MH': 'Marshall Islands',\n",
       " 'MK': 'Macedonia',\n",
       " 'MNE': 'Montenegro',\n",
       " 'MNG': 'Mongolia',\n",
       " 'MNTS': 'Montserrat',\n",
       " 'MOC': 'Mozambique',\n",
       " 'MS': 'Mauritius',\n",
       " 'MV': 'Maldives',\n",
       " 'MW': 'Malawi',\n",
       " 'MYA': 'Myanmar',\n",
       " 'N': 'Norway',\n",
       " 'NAM': 'Namibia',\n",
       " 'NAU': 'Nauru',\n",
       " 'NCA': 'New Caledonia',\n",
       " 'NEP': 'Nepal',\n",
       " 'NIC': 'Nicaragua',\n",
       " 'NIUE': 'Niue',\n",
       " 'NL': 'Netherlands',\n",
       " 'NLSM': 'Sint Maarten',\n",
       " 'NMIS': 'Northern Mariana Islands',\n",
       " 'NOK': 'North Korea',\n",
       " 'NORF': 'Norfolk Island',\n",
       " 'NZ': 'New Zealand',\n",
       " 'OM': 'Oman',\n",
       " 'P': 'Portugal',\n",
       " 'PA': 'Panama',\n",
       " 'PAL': 'Palau',\n",
       " 'PE': 'Peru',\n",
       " 'PITC': 'Pitcairn',\n",
       " 'PK': 'Pakistan',\n",
       " 'PL': 'Poland',\n",
       " 'PNG': 'Papua New Guinea',\n",
       " 'PR': 'Puerto Rico',\n",
       " 'PY': 'Paraguay',\n",
       " 'Q': 'Qatar',\n",
       " 'R': 'Russia',\n",
       " 'RA': 'Argentina',\n",
       " 'RB': 'Botswana',\n",
       " 'RC': 'Taiwan',\n",
       " 'RCA': 'Central African Republic',\n",
       " 'RCB': 'Congo',\n",
       " 'RCH': 'Chile',\n",
       " 'REUN': 'Reunion',\n",
       " 'RG': 'Guinea',\n",
       " 'RH': 'Haiti',\n",
       " 'RI': 'Indonesia',\n",
       " 'RIM': 'Mauritania',\n",
       " 'RL': 'Lebanon',\n",
       " 'RM': 'Madagascar',\n",
       " 'RMM': 'Mali',\n",
       " 'RN': 'Niger',\n",
       " 'RO': 'Romania',\n",
       " 'ROK': 'South Korea',\n",
       " 'ROU': 'Uruguay',\n",
       " 'RP': 'Philippines',\n",
       " 'RSA': 'South Africa',\n",
       " 'RSM': 'San Marino',\n",
       " 'RT': 'Togo',\n",
       " 'RWA': 'Rwanda',\n",
       " 'S': 'Sweden',\n",
       " 'SA': 'Saudi Arabia',\n",
       " 'SBAR': 'Saint Barthelemy',\n",
       " 'SD': 'Swaziland',\n",
       " 'SF': 'Finland',\n",
       " 'SGP': 'Singapore',\n",
       " 'SK': 'Slovakia',\n",
       " 'SLB': 'Solomon Islands',\n",
       " 'SLO': 'Slovenia',\n",
       " 'SMAR': 'Saint Martin',\n",
       " 'SME': 'Suriname',\n",
       " 'SN': 'Senegal',\n",
       " 'SP': 'Somalia',\n",
       " 'SPMI': 'Saint Pierre and Miquelon',\n",
       " 'SRB': 'Serbia',\n",
       " 'SSD': 'South Sudan',\n",
       " 'STP': 'Sao Tome and Principe',\n",
       " 'SUD': 'Sudan',\n",
       " 'SVAX': 'Svalbard',\n",
       " 'SY': 'Seychelles',\n",
       " 'SYR': 'Syria',\n",
       " 'TAD': 'Tajikistan',\n",
       " 'TCH': 'Chad',\n",
       " 'THA': 'Thailand',\n",
       " 'TL': 'Timor-Leste',\n",
       " 'TM': 'Turkmenistan',\n",
       " 'TN': 'Tunisia',\n",
       " 'TO': 'Tonga',\n",
       " 'TOK': 'Tokelau',\n",
       " 'TR': 'Turkey',\n",
       " 'TT': 'Trinidad and Tobago',\n",
       " 'TUCA': 'Turks and Caicos Islands',\n",
       " 'TUV': 'Tuvalu',\n",
       " 'UA': 'Ukraine',\n",
       " 'UAE': 'United Arab Emirates',\n",
       " 'USA': 'United States',\n",
       " 'UZB': 'Uzbekistan',\n",
       " 'V': 'Holy See',\n",
       " 'VIRG': 'Virgin Islands',\n",
       " 'VN': 'Vietnam',\n",
       " 'VU': 'Vanuatu',\n",
       " 'WAFU': 'Wallis and Futuna',\n",
       " 'WAG': 'Gambia',\n",
       " 'WAL': 'Sierra Leone',\n",
       " 'WAN': 'Nigeria',\n",
       " 'WD': 'Dominica',\n",
       " 'WEST': 'West Bank',\n",
       " 'WG': 'Grenada',\n",
       " 'WL': 'Saint Lucia',\n",
       " 'WS': 'Samoa',\n",
       " 'WSA': 'Western Sahara',\n",
       " 'WV': 'Saint Vincent and the Grenadines',\n",
       " 'XMAS': 'Christmas Island',\n",
       " 'YE': 'Yemen',\n",
       " 'YV': 'Venezuela',\n",
       " 'Z': 'Zambia',\n",
       " 'ZRE': 'Zaire',\n",
       " 'ZW': 'Zimbabwe'}"
      ]
     },
     "execution_count": 13,
     "metadata": {},
     "output_type": "execute_result"
    }
   ],
   "source": [
    "country_dict = {}\n",
    "for country in tree.findall('country'):\n",
    "    country_dict[country.attrib['car_code']] = country.find('name').text\n",
    "\n",
    "country_dict"
   ]
  },
  {
   "cell_type": "markdown",
   "metadata": {},
   "source": [
    "## (a) Longest River"
   ]
  },
  {
   "cell_type": "code",
   "execution_count": 14,
   "metadata": {
    "collapsed": false
   },
   "outputs": [
    {
     "data": {
      "text/html": [
       "<div>\n",
       "<table border=\"1\" class=\"dataframe\">\n",
       "  <thead>\n",
       "    <tr style=\"text-align: right;\">\n",
       "      <th></th>\n",
       "      <th>country</th>\n",
       "      <th>river</th>\n",
       "      <th>length</th>\n",
       "    </tr>\n",
       "  </thead>\n",
       "  <tbody>\n",
       "    <tr>\n",
       "      <th>174</th>\n",
       "      <td>CO BR PE</td>\n",
       "      <td>Amazonas</td>\n",
       "      <td>6448.0</td>\n",
       "    </tr>\n",
       "  </tbody>\n",
       "</table>\n",
       "</div>"
      ],
      "text/plain": [
       "      country     river  length\n",
       "174  CO BR PE  Amazonas  6448.0"
      ]
     },
     "execution_count": 14,
     "metadata": {},
     "output_type": "execute_result"
    }
   ],
   "source": [
    "river_list = []\n",
    "\n",
    "for river in tree.findall('river'):\n",
    "    #print('\\n')\n",
    "    river_name = river.find('name').text\n",
    "    #print('river name : ' + river_name)\n",
    "    country = river.attrib['country']\n",
    "    #print('country : ' + country)\n",
    "    if river.find('length')!=None:\n",
    "        river_length = river.find('length').text\n",
    "        #print(river_length)\n",
    "    else:\n",
    "        river_length=np.nan\n",
    "        \n",
    "    river_list.append([country, river_name, float(river_length) ])\n",
    "    \n",
    "river_df = pd.DataFrame.from_records(river_list,columns=['country','river','length'])\n",
    "longest_river = river_df.sort_values('length',ascending=False).head(1)\n",
    "longest_river"
   ]
  },
  {
   "cell_type": "markdown",
   "metadata": {},
   "source": [
    "Print out the full country names:"
   ]
  },
  {
   "cell_type": "code",
   "execution_count": 15,
   "metadata": {
    "collapsed": false
   },
   "outputs": [
    {
     "name": "stdout",
     "output_type": "stream",
     "text": [
      "Colombia\n",
      "Brazil\n",
      "Peru\n"
     ]
    }
   ],
   "source": [
    "countries = longest_river.country.str.split().tolist()[0]\n",
    "for country in countries:\n",
    "    print(country_dict[country])"
   ]
  },
  {
   "cell_type": "markdown",
   "metadata": {},
   "source": [
    "## (b) Largest lake"
   ]
  },
  {
   "cell_type": "code",
   "execution_count": 16,
   "metadata": {
    "collapsed": false
   },
   "outputs": [
    {
     "data": {
      "text/html": [
       "<div>\n",
       "<table border=\"1\" class=\"dataframe\">\n",
       "  <thead>\n",
       "    <tr style=\"text-align: right;\">\n",
       "      <th></th>\n",
       "      <th>country</th>\n",
       "      <th>lake</th>\n",
       "      <th>area</th>\n",
       "    </tr>\n",
       "  </thead>\n",
       "  <tbody>\n",
       "    <tr>\n",
       "      <th>54</th>\n",
       "      <td>R AZ KAZ IR TM</td>\n",
       "      <td>Caspian Sea</td>\n",
       "      <td>386400.0</td>\n",
       "    </tr>\n",
       "  </tbody>\n",
       "</table>\n",
       "</div>"
      ],
      "text/plain": [
       "           country         lake      area\n",
       "54  R AZ KAZ IR TM  Caspian Sea  386400.0"
      ]
     },
     "execution_count": 16,
     "metadata": {},
     "output_type": "execute_result"
    }
   ],
   "source": [
    "lake_list = []\n",
    "\n",
    "for lake in tree.findall('lake'):\n",
    "    #print('\\n')\n",
    "    lake_name = lake.find('name').text\n",
    "    #print('lake name : ' + lake_name)\n",
    "    country = lake.attrib['country']\n",
    "    #print('country : ' + country)\n",
    "    if lake.find('area')!=None:\n",
    "        lake_area = lake.find('area').text\n",
    "    #    print(lake_area)\n",
    "    else:\n",
    "        lake_area=np.nan\n",
    "        \n",
    "    lake_list.append([country, lake_name, float(lake_area) ])\n",
    "    \n",
    "lake_df = pd.DataFrame.from_records(lake_list,columns=['country','lake','area'])\n",
    "largest_lake = lake_df.sort_values('area',ascending=False).head(1)\n",
    "largest_lake"
   ]
  },
  {
   "cell_type": "code",
   "execution_count": 17,
   "metadata": {
    "collapsed": false
   },
   "outputs": [
    {
     "name": "stdout",
     "output_type": "stream",
     "text": [
      "Russia\n",
      "Azerbaijan\n",
      "Kazakhstan\n",
      "Iran\n",
      "Turkmenistan\n"
     ]
    }
   ],
   "source": [
    "countries = largest_lake.country.str.split().tolist()[0]\n",
    "for country in countries:\n",
    "    print(country_dict[country])"
   ]
  },
  {
   "cell_type": "markdown",
   "metadata": {},
   "source": [
    "## (c) Highest Elevation Airport"
   ]
  },
  {
   "cell_type": "code",
   "execution_count": 18,
   "metadata": {
    "collapsed": false
   },
   "outputs": [
    {
     "data": {
      "text/html": [
       "<div>\n",
       "<table border=\"1\" class=\"dataframe\">\n",
       "  <thead>\n",
       "    <tr style=\"text-align: right;\">\n",
       "      <th></th>\n",
       "      <th>country</th>\n",
       "      <th>airport</th>\n",
       "      <th>elev</th>\n",
       "    </tr>\n",
       "  </thead>\n",
       "  <tbody>\n",
       "    <tr>\n",
       "      <th>80</th>\n",
       "      <td>BOL</td>\n",
       "      <td>El Alto Intl</td>\n",
       "      <td>4063.0</td>\n",
       "    </tr>\n",
       "  </tbody>\n",
       "</table>\n",
       "</div>"
      ],
      "text/plain": [
       "   country       airport    elev\n",
       "80     BOL  El Alto Intl  4063.0"
      ]
     },
     "execution_count": 18,
     "metadata": {},
     "output_type": "execute_result"
    }
   ],
   "source": [
    "airport_list = []\n",
    "\n",
    "for airport in tree.findall('airport'):\n",
    "    #print('\\n')    \n",
    "    airport_name = airport.find('name').text\n",
    "    #print('airport name : ' + airport_name)\n",
    "    country = airport.attrib['country']\n",
    "    #print('country : ' + country)\n",
    "    if airport.find('elevation').text!=None:        \n",
    "        airport_elev = airport.find('elevation').text\n",
    "        #print(airport_elev)\n",
    "    else:\n",
    "        airport_elev = np.nan\n",
    "        \n",
    "    airport_list.append([country, airport_name, float(airport_elev) ])\n",
    "    \n",
    "airport_df = pd.DataFrame.from_records(airport_list,columns=['country','airport','elev'])\n",
    "highest_airport = airport_df.sort_values('elev',ascending=False).head(1)\n",
    "highest_airport"
   ]
  },
  {
   "cell_type": "code",
   "execution_count": 19,
   "metadata": {
    "collapsed": false
   },
   "outputs": [
    {
     "name": "stdout",
     "output_type": "stream",
     "text": [
      "Bolivia\n"
     ]
    }
   ],
   "source": [
    "countries = highest_airport.country.str.split().tolist()[0]\n",
    "for country in countries:\n",
    "    print(country_dict[country])"
   ]
  }
 ],
 "metadata": {
  "kernelspec": {
   "display_name": "Python 3",
   "language": "python",
   "name": "python3"
  },
  "language_info": {
   "codemirror_mode": {
    "name": "ipython",
    "version": 3
   },
   "file_extension": ".py",
   "mimetype": "text/x-python",
   "name": "python",
   "nbconvert_exporter": "python",
   "pygments_lexer": "ipython3",
   "version": "3.6.0"
  }
 },
 "nbformat": 4,
 "nbformat_minor": 0
}
