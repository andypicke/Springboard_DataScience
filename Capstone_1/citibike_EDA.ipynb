{
 "cells": [
  {
   "cell_type": "markdown",
   "metadata": {
    "collapsed": true
   },
   "source": [
    "# Some EDA for 1st capstone project on city-bike data from NYC\n",
    "\n",
    "To-Do:\n",
    "- Make sure we can read in csv files. Any issues with data/format/types that need to be corrected?\n",
    "- Missing values? \n",
    "- Plot station locations on map\n",
    "- Plot # rides per day (1-30) for one month\n",
    "- Plot # rides grouped by day of week\n",
    "- Plot # rides grouped by hour\n",
    "\n"
   ]
  },
  {
   "cell_type": "markdown",
   "metadata": {},
   "source": [
    "## Loading and cleaning data"
   ]
  },
  {
   "cell_type": "code",
   "execution_count": null,
   "metadata": {
    "collapsed": true
   },
   "outputs": [],
   "source": [
    "import pandas as pd\n",
    "import numpy as np\n",
    "import matplotlib.pyplot as plt\n",
    "%matplotlib inline"
   ]
  },
  {
   "cell_type": "code",
   "execution_count": null,
   "metadata": {
    "collapsed": false
   },
   "outputs": [],
   "source": [
    "dat = pd.read_csv('data/2013-09 - Citi Bike trip data.csv',parse_dates=True)\n",
    "dat.head()"
   ]
  },
  {
   "cell_type": "markdown",
   "metadata": {},
   "source": [
    "Look at df info: \n",
    "- It looks like the data is pretty clean; no null values. \n",
    "- Start and end times need to be coverted to date format. \n",
    "- Gender can probably be converted to factor (categorical) type. \n",
    "- Should replace spaces in column names with underscores."
   ]
  },
  {
   "cell_type": "code",
   "execution_count": null,
   "metadata": {
    "collapsed": false
   },
   "outputs": [],
   "source": [
    "dat.info()"
   ]
  },
  {
   "cell_type": "markdown",
   "metadata": {},
   "source": [
    "convert start/end times to date format"
   ]
  },
  {
   "cell_type": "code",
   "execution_count": null,
   "metadata": {
    "collapsed": false
   },
   "outputs": [],
   "source": [
    "dat.starttime=pd.to_datetime(dat.starttime)\n",
    "dat.stoptime=pd.to_datetime(dat.stoptime)\n",
    "dat.info()"
   ]
  },
  {
   "cell_type": "markdown",
   "metadata": {},
   "source": [
    "convert gender to categorical variable"
   ]
  },
  {
   "cell_type": "code",
   "execution_count": null,
   "metadata": {
    "collapsed": false
   },
   "outputs": [],
   "source": [
    "dat['gender']=dat['gender'].astype('category')\n",
    "dat.info()"
   ]
  },
  {
   "cell_type": "markdown",
   "metadata": {},
   "source": [
    "replace spaces in variable names w/ undersocre"
   ]
  },
  {
   "cell_type": "code",
   "execution_count": null,
   "metadata": {
    "collapsed": false
   },
   "outputs": [],
   "source": [
    "dat.rename(columns=lambda x: x.replace(' ', '_'), inplace=True)\n",
    "dat.info()"
   ]
  },
  {
   "cell_type": "markdown",
   "metadata": {
    "collapsed": true
   },
   "source": [
    "## Now put all this data input/transformation together"
   ]
  },
  {
   "cell_type": "code",
   "execution_count": null,
   "metadata": {
    "collapsed": true
   },
   "outputs": [],
   "source": [
    "def load_citibike_monthly():\n",
    "    dat = pd.read_csv('data/2013-09 - Citi Bike trip data.csv',parse_dates=True)\n",
    "    dat.starttime=pd.to_datetime(dat.starttime)\n",
    "    dat.stoptime=pd.to_datetime(dat.stoptime)\n",
    "    dat['gender']=dat['gender'].astype('category')\n",
    "    dat.rename(columns=lambda x: x.replace(' ', '_'), inplace=True)\n",
    "    return dat"
   ]
  },
  {
   "cell_type": "code",
   "execution_count": null,
   "metadata": {
    "collapsed": false
   },
   "outputs": [],
   "source": [
    "del dat\n",
    "dat=load_citibike_monthly()\n",
    "dat.info()"
   ]
  },
  {
   "cell_type": "markdown",
   "metadata": {},
   "source": [
    "## EDA"
   ]
  },
  {
   "cell_type": "code",
   "execution_count": null,
   "metadata": {
    "collapsed": false
   },
   "outputs": [],
   "source": [
    "dat.describe()"
   ]
  },
  {
   "cell_type": "code",
   "execution_count": null,
   "metadata": {
    "collapsed": true
   },
   "outputs": [],
   "source": []
  },
  {
   "cell_type": "markdown",
   "metadata": {
    "collapsed": true
   },
   "source": [
    "## Number rides per day of month\n",
    "- Big decrease in rides first 1-3 days (this is September, so probably that is Labor day weekend).\n",
    "- Should get data on holiday dates to use in analysis.\n",
    "- Other than that, rides seem to fluctuate between 30-40k. Need to investigate patterns further (some could be holidays or maybe weekends?). Or could be related to weather."
   ]
  },
  {
   "cell_type": "code",
   "execution_count": null,
   "metadata": {
    "collapsed": false
   },
   "outputs": [],
   "source": [
    "# plot \n",
    "dat['day']=dat.starttime.dt.day\n",
    "dat.head()\n",
    "dat.groupby('day').size().plot().grid()"
   ]
  },
  {
   "cell_type": "code",
   "execution_count": null,
   "metadata": {
    "collapsed": true
   },
   "outputs": [],
   "source": []
  },
  {
   "cell_type": "markdown",
   "metadata": {
    "collapsed": true
   },
   "source": [
    "## Rides by day of week\n",
    "Look like there tend to be more rides on day 0 which is Monday, and the fewest on Saturday. But would need to look at different months to see if this pattern is significant."
   ]
  },
  {
   "cell_type": "code",
   "execution_count": null,
   "metadata": {
    "collapsed": false
   },
   "outputs": [],
   "source": [
    "# plot \n",
    "dat['day_of_week']=dat.starttime.dt.dayofweek\n",
    "dat.head()\n",
    "dat.groupby('day_of_week').size().plot(kind='bar')"
   ]
  },
  {
   "cell_type": "markdown",
   "metadata": {},
   "source": [
    "## Relationship between hour and number of rides\n",
    "The plot below shows that rides peak around 7-8 and 16-17, which correspond roughly to rush hour/commuting to/from work. So hour of day looks like it would be an important predictor of demand."
   ]
  },
  {
   "cell_type": "code",
   "execution_count": null,
   "metadata": {
    "collapsed": false
   },
   "outputs": [],
   "source": [
    "# add hour column to data frome\n",
    "dat['hour']=dat.starttime.dt.hour\n",
    "rides_by_hour = dat.groupby('hour').size()\n",
    "dat.groupby('hour').size().plot().grid()\n"
   ]
  },
  {
   "cell_type": "code",
   "execution_count": null,
   "metadata": {
    "collapsed": true
   },
   "outputs": [],
   "source": []
  },
  {
   "cell_type": "code",
   "execution_count": null,
   "metadata": {
    "collapsed": false
   },
   "outputs": [],
   "source": [
    "# which days had the most rides this month?\n",
    "dat.groupby('day').size().sort_values(ascending=False).head(10)"
   ]
  },
  {
   "cell_type": "code",
   "execution_count": null,
   "metadata": {
    "collapsed": true
   },
   "outputs": [],
   "source": []
  },
  {
   "cell_type": "markdown",
   "metadata": {
    "collapsed": true
   },
   "source": []
  },
  {
   "cell_type": "code",
   "execution_count": null,
   "metadata": {
    "collapsed": false
   },
   "outputs": [],
   "source": [
    "# distribution of trip durations\n",
    "dat.tripduration[dat.tripduration<4000].plot(kind='hist').grid()"
   ]
  },
  {
   "cell_type": "code",
   "execution_count": null,
   "metadata": {
    "collapsed": true
   },
   "outputs": [],
   "source": []
  },
  {
   "cell_type": "code",
   "execution_count": null,
   "metadata": {
    "collapsed": true
   },
   "outputs": [],
   "source": []
  },
  {
   "cell_type": "markdown",
   "metadata": {
    "collapsed": false
   },
   "source": [
    "What is the average trip duration?"
   ]
  },
  {
   "cell_type": "code",
   "execution_count": null,
   "metadata": {
    "collapsed": false
   },
   "outputs": [],
   "source": [
    "# mean trip duration in minutes\n",
    "np.mean(dat.tripduration)/60"
   ]
  },
  {
   "cell_type": "markdown",
   "metadata": {
    "collapsed": false
   },
   "source": [
    "Which stations are used the most?"
   ]
  },
  {
   "cell_type": "code",
   "execution_count": null,
   "metadata": {
    "collapsed": false
   },
   "outputs": [],
   "source": [
    "# Which stations are used the most?\n",
    "# does this depend on day?\n",
    "dat.groupby('start_station_id').size().sort_values(ascending=False).head(10)"
   ]
  },
  {
   "cell_type": "markdown",
   "metadata": {},
   "source": [
    "# Map of station locations"
   ]
  },
  {
   "cell_type": "code",
   "execution_count": null,
   "metadata": {
    "collapsed": false
   },
   "outputs": [],
   "source": [
    "# plot map of station locations (use leaflet/folium?)\n",
    "import folium\n",
    "map_osm = folium.Map(location=[40.75, -74])\n",
    "\n",
    "lat_list = dat['start_station_latitude'].values\n",
    "lon_list = dat['start_station_longitude'].values\n",
    "\n",
    "# add station locations:\n",
    "for lat, lon, name in zip(dat[lat_list, dat['start_station_longitude'], dat['start_station_id']):\n",
    "    print(lat,lon,name)\n",
    "    #folium.Marker([lat, -lon], popup=name).add_to(map_osm)\n",
    "\n",
    "map_osm\n"
   ]
  },
  {
   "cell_type": "code",
   "execution_count": null,
   "metadata": {
    "collapsed": false
   },
   "outputs": [],
   "source": [
    "type(lat_list.values)"
   ]
  },
  {
   "cell_type": "code",
   "execution_count": null,
   "metadata": {
    "collapsed": true
   },
   "outputs": [],
   "source": []
  },
  {
   "cell_type": "code",
   "execution_count": null,
   "metadata": {
    "collapsed": true
   },
   "outputs": [],
   "source": []
  },
  {
   "cell_type": "code",
   "execution_count": null,
   "metadata": {
    "collapsed": true
   },
   "outputs": [],
   "source": []
  },
  {
   "cell_type": "code",
   "execution_count": null,
   "metadata": {
    "collapsed": false
   },
   "outputs": [],
   "source": [
    "stations_df = dat[ ['start_station_latitude','start_station_longitude','start_station_id' ]]\n",
    "stations_df.drop_duplicates().head()"
   ]
  },
  {
   "cell_type": "code",
   "execution_count": null,
   "metadata": {
    "collapsed": false
   },
   "outputs": [],
   "source": [
    "feature_group = folium.FeatureGroup(\"Locations\")\n",
    "\n",
    "for lat, lon, name in zip(dat['start_station_latitude'], dat['start_station_latitude'], dat.start_station_id):\n",
    "    feature_group.add_child(folium.Marker(location=[lat,lon],popup=name))\n",
    "\n",
    "#map.add_child(feature_group)"
   ]
  },
  {
   "cell_type": "code",
   "execution_count": null,
   "metadata": {
    "collapsed": false
   },
   "outputs": [],
   "source": [
    "zip(dat['start_station_latitude'], dat['start_station_latitude'], dat.start_station_id)"
   ]
  },
  {
   "cell_type": "code",
   "execution_count": null,
   "metadata": {
    "collapsed": true
   },
   "outputs": [],
   "source": []
  }
 ],
 "metadata": {
  "kernelspec": {
   "display_name": "Python 3",
   "language": "python",
   "name": "python3"
  },
  "language_info": {
   "codemirror_mode": {
    "name": "ipython",
    "version": 3
   },
   "file_extension": ".py",
   "mimetype": "text/x-python",
   "name": "python",
   "nbconvert_exporter": "python",
   "pygments_lexer": "ipython3",
   "version": "3.6.0"
  }
 },
 "nbformat": 4,
 "nbformat_minor": 2
}
