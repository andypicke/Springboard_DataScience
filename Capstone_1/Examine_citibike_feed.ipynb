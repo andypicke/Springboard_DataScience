{
 "cells": [
  {
   "cell_type": "markdown",
   "metadata": {},
   "source": [
    "## Looking at the station status data i'm downloading from the live feed\n",
    "- Data is read w/ **read_citibike_streaming.py** and saved to sqlite3 database\n",
    "- timestamp is in UTC, but year,hour,yday were computed using NYC local time\n",
    "- data is read every 15 minutes, so for each 'hour' there are 3-4 points, depending on what time the data was last updated."
   ]
  },
  {
   "cell_type": "code",
   "execution_count": 1,
   "metadata": {
    "collapsed": true
   },
   "outputs": [],
   "source": [
    "import pandas as pd\n",
    "import matplotlib.pyplot as plt\n",
    "% matplotlib inline\n",
    "import sqlite3"
   ]
  },
  {
   "cell_type": "code",
   "execution_count": 2,
   "metadata": {
    "collapsed": true
   },
   "outputs": [],
   "source": [
    "con = sqlite3.connect('data/citibike_feeds.db3')"
   ]
  },
  {
   "cell_type": "markdown",
   "metadata": {},
   "source": [
    "Look at just one station for now"
   ]
  },
  {
   "cell_type": "code",
   "execution_count": 3,
   "metadata": {
    "collapsed": false
   },
   "outputs": [
    {
     "data": {
      "text/html": [
       "<div>\n",
       "<table border=\"1\" class=\"dataframe\">\n",
       "  <thead>\n",
       "    <tr style=\"text-align: right;\">\n",
       "      <th></th>\n",
       "      <th>eightd_has_available_keys</th>\n",
       "      <th>is_installed</th>\n",
       "      <th>is_renting</th>\n",
       "      <th>is_returning</th>\n",
       "      <th>last_reported</th>\n",
       "      <th>num_bikes_available</th>\n",
       "      <th>num_bikes_disabled</th>\n",
       "      <th>num_docks_available</th>\n",
       "      <th>num_docks_disabled</th>\n",
       "      <th>station_id</th>\n",
       "      <th>timestamp_utc</th>\n",
       "      <th>year</th>\n",
       "      <th>hour</th>\n",
       "      <th>yday</th>\n",
       "    </tr>\n",
       "  </thead>\n",
       "  <tbody>\n",
       "    <tr>\n",
       "      <th>0</th>\n",
       "      <td>0</td>\n",
       "      <td>1</td>\n",
       "      <td>1</td>\n",
       "      <td>1</td>\n",
       "      <td>1497998446</td>\n",
       "      <td>1</td>\n",
       "      <td>5</td>\n",
       "      <td>33</td>\n",
       "      <td>0</td>\n",
       "      <td>72</td>\n",
       "      <td>2017-06-20 22:45:00</td>\n",
       "      <td>2017</td>\n",
       "      <td>18</td>\n",
       "      <td>171</td>\n",
       "    </tr>\n",
       "    <tr>\n",
       "      <th>1</th>\n",
       "      <td>0</td>\n",
       "      <td>1</td>\n",
       "      <td>1</td>\n",
       "      <td>1</td>\n",
       "      <td>1498000711</td>\n",
       "      <td>3</td>\n",
       "      <td>5</td>\n",
       "      <td>31</td>\n",
       "      <td>0</td>\n",
       "      <td>72</td>\n",
       "      <td>2017-06-20 23:18:50</td>\n",
       "      <td>2017</td>\n",
       "      <td>19</td>\n",
       "      <td>171</td>\n",
       "    </tr>\n",
       "    <tr>\n",
       "      <th>2</th>\n",
       "      <td>0</td>\n",
       "      <td>1</td>\n",
       "      <td>1</td>\n",
       "      <td>1</td>\n",
       "      <td>1498001101</td>\n",
       "      <td>2</td>\n",
       "      <td>5</td>\n",
       "      <td>32</td>\n",
       "      <td>0</td>\n",
       "      <td>72</td>\n",
       "      <td>2017-06-20 23:29:56</td>\n",
       "      <td>2017</td>\n",
       "      <td>19</td>\n",
       "      <td>171</td>\n",
       "    </tr>\n",
       "    <tr>\n",
       "      <th>3</th>\n",
       "      <td>0</td>\n",
       "      <td>1</td>\n",
       "      <td>1</td>\n",
       "      <td>1</td>\n",
       "      <td>1498002259</td>\n",
       "      <td>2</td>\n",
       "      <td>5</td>\n",
       "      <td>32</td>\n",
       "      <td>0</td>\n",
       "      <td>72</td>\n",
       "      <td>2017-06-20 23:44:51</td>\n",
       "      <td>2017</td>\n",
       "      <td>19</td>\n",
       "      <td>171</td>\n",
       "    </tr>\n",
       "    <tr>\n",
       "      <th>4</th>\n",
       "      <td>0</td>\n",
       "      <td>1</td>\n",
       "      <td>1</td>\n",
       "      <td>1</td>\n",
       "      <td>1498003189</td>\n",
       "      <td>4</td>\n",
       "      <td>5</td>\n",
       "      <td>30</td>\n",
       "      <td>0</td>\n",
       "      <td>72</td>\n",
       "      <td>2017-06-20 23:59:56</td>\n",
       "      <td>2017</td>\n",
       "      <td>19</td>\n",
       "      <td>171</td>\n",
       "    </tr>\n",
       "  </tbody>\n",
       "</table>\n",
       "</div>"
      ],
      "text/plain": [
       "   eightd_has_available_keys  is_installed  is_renting  is_returning  \\\n",
       "0                          0             1           1             1   \n",
       "1                          0             1           1             1   \n",
       "2                          0             1           1             1   \n",
       "3                          0             1           1             1   \n",
       "4                          0             1           1             1   \n",
       "\n",
       "   last_reported  num_bikes_available  num_bikes_disabled  \\\n",
       "0     1497998446                    1                   5   \n",
       "1     1498000711                    3                   5   \n",
       "2     1498001101                    2                   5   \n",
       "3     1498002259                    2                   5   \n",
       "4     1498003189                    4                   5   \n",
       "\n",
       "   num_docks_available  num_docks_disabled station_id        timestamp_utc  \\\n",
       "0                   33                   0         72  2017-06-20 22:45:00   \n",
       "1                   31                   0         72  2017-06-20 23:18:50   \n",
       "2                   32                   0         72  2017-06-20 23:29:56   \n",
       "3                   32                   0         72  2017-06-20 23:44:51   \n",
       "4                   30                   0         72  2017-06-20 23:59:56   \n",
       "\n",
       "   year  hour  yday  \n",
       "0  2017    18   171  \n",
       "1  2017    19   171  \n",
       "2  2017    19   171  \n",
       "3  2017    19   171  \n",
       "4  2017    19   171  "
      ]
     },
     "execution_count": 3,
     "metadata": {},
     "output_type": "execute_result"
    }
   ],
   "source": [
    "df = pd.read_sql_query(\"select * from station_status where station_id=72\",con)\n",
    "df.head()"
   ]
  },
  {
   "cell_type": "code",
   "execution_count": 4,
   "metadata": {
    "collapsed": false
   },
   "outputs": [
    {
     "name": "stdout",
     "output_type": "stream",
     "text": [
      "<class 'pandas.core.frame.DataFrame'>\n",
      "RangeIndex: 66 entries, 0 to 65\n",
      "Data columns (total 14 columns):\n",
      "eightd_has_available_keys    66 non-null int64\n",
      "is_installed                 66 non-null int64\n",
      "is_renting                   66 non-null int64\n",
      "is_returning                 66 non-null int64\n",
      "last_reported                66 non-null int64\n",
      "num_bikes_available          66 non-null int64\n",
      "num_bikes_disabled           66 non-null int64\n",
      "num_docks_available          66 non-null int64\n",
      "num_docks_disabled           66 non-null int64\n",
      "station_id                   66 non-null object\n",
      "timestamp_utc                66 non-null object\n",
      "year                         66 non-null int64\n",
      "hour                         66 non-null int64\n",
      "yday                         66 non-null int64\n",
      "dtypes: int64(12), object(2)\n",
      "memory usage: 7.3+ KB\n"
     ]
    }
   ],
   "source": [
    "df.info()"
   ]
  },
  {
   "cell_type": "code",
   "execution_count": 5,
   "metadata": {
    "collapsed": false
   },
   "outputs": [
    {
     "name": "stdout",
     "output_type": "stream",
     "text": [
      "<class 'pandas.core.frame.DataFrame'>\n",
      "RangeIndex: 66 entries, 0 to 65\n",
      "Data columns (total 14 columns):\n",
      "eightd_has_available_keys    66 non-null int64\n",
      "is_installed                 66 non-null int64\n",
      "is_renting                   66 non-null int64\n",
      "is_returning                 66 non-null int64\n",
      "last_reported                66 non-null int64\n",
      "num_bikes_available          66 non-null int64\n",
      "num_bikes_disabled           66 non-null int64\n",
      "num_docks_available          66 non-null int64\n",
      "num_docks_disabled           66 non-null int64\n",
      "station_id                   66 non-null object\n",
      "timestamp_utc                66 non-null datetime64[ns]\n",
      "year                         66 non-null int64\n",
      "hour                         66 non-null int64\n",
      "yday                         66 non-null int64\n",
      "dtypes: datetime64[ns](1), int64(12), object(1)\n",
      "memory usage: 7.3+ KB\n"
     ]
    }
   ],
   "source": [
    "# NOTE timestamp is UTC. \n",
    "df.timestamp_utc = pd.to_datetime(df.timestamp_utc)\n",
    "df.info()"
   ]
  },
  {
   "cell_type": "markdown",
   "metadata": {},
   "source": [
    "## Plot the number of bikes available vs hour\n",
    "- Number of bikes available appears to drop around rush hours\n",
    "- Evidence of bike re-distributing at night/early morning?"
   ]
  },
  {
   "cell_type": "code",
   "execution_count": 6,
   "metadata": {
    "collapsed": false
   },
   "outputs": [
    {
     "data": {
      "text/plain": [
       "<matplotlib.text.Text at 0x119619908>"
      ]
     },
     "execution_count": 6,
     "metadata": {},
     "output_type": "execute_result"
    },
    {
     "data": {
      "image/png": "[encoded data removed]",
      "text/plain": [
       "<matplotlib.figure.Figure at 0x1162d8940>"
      ]
     },
     "metadata": {},
     "output_type": "display_data"
    }
   ],
   "source": [
    "plt.scatter(df.hour,df.num_bikes_available)\n",
    "plt.grid();\n",
    "plt.xlabel('hour')\n",
    "plt.ylabel('# bikes available')"
   ]
  },
  {
   "cell_type": "code",
   "execution_count": 7,
   "metadata": {
    "collapsed": false
   },
   "outputs": [
    {
     "data": {
      "image/png": "[encoded data removed]",
      "text/plain": [
       "<matplotlib.figure.Figure at 0x11974a630>"
      ]
     },
     "metadata": {},
     "output_type": "display_data"
    }
   ],
   "source": [
    "# ** NOTE timestamp is in UTC, which is currently UTC-4 hrs **\n",
    "plt.plot(df.timestamp_utc,df.num_bikes_available)\n",
    "plt.grid()"
   ]
  }
 ],
 "metadata": {
  "kernelspec": {
   "display_name": "Python 3",
   "language": "python",
   "name": "python3"
  },
  "language_info": {
   "codemirror_mode": {
    "name": "ipython",
    "version": 3
   },
   "file_extension": ".py",
   "mimetype": "text/x-python",
   "name": "python",
   "nbconvert_exporter": "python",
   "pygments_lexer": "ipython3",
   "version": "3.6.0"
  }
 },
 "nbformat": 4,
 "nbformat_minor": 2
}
