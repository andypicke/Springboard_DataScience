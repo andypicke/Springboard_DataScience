{
 "cells": [
  {
   "cell_type": "markdown",
   "metadata": {},
   "source": [
    "Goal: Predict total number of citibike rides each day, based on variables such as year,month,day of week, temperature. etc."
   ]
  },
  {
   "cell_type": "markdown",
   "metadata": {},
   "source": [
    "Steps:\n",
    "- Will do for one year to start, then extend\n",
    "- Get total # rides grouped by day\n",
    "- Get daily temperatures\n",
    "- Separate into predictors/target\n",
    "- Train/test split\n",
    "- Fit linear regression, Ridge, Lasso models and evaluate performance."
   ]
  },
  {
   "cell_type": "code",
   "execution_count": null,
   "metadata": {
    "collapsed": true
   },
   "outputs": [],
   "source": [
    "# import libraries and connect to database\n",
    "import sqlite3\n",
    "import pandas as pd\n",
    "import matplotlib.pyplot as plt\n",
    "import seaborn as sns\n",
    "import numpy as np\n",
    "%matplotlib inline\n",
    "con = sqlite3.connect(\"data/citibike_database.db3\")\n",
    "plt.rcParams['font.size'] = 14\n",
    "plt.rcParams['axes.labelsize'] = 'large'\n",
    "plt.rcParams['xtick.labelsize'] = 'large'\n",
    "plt.rcParams['ytick.labelsize'] = 'large'\n",
    "plt.rcParams['lines.linewidth'] = 3"
   ]
  },
  {
   "cell_type": "markdown",
   "metadata": {},
   "source": [
    "## Get total number of rides each day (target variable)"
   ]
  },
  {
   "cell_type": "code",
   "execution_count": 2,
   "metadata": {},
   "outputs": [
    {
     "data": {
      "text/html": [
       "<div>\n",
       "<style>\n",
       "    .dataframe thead tr:only-child th {\n",
       "        text-align: right;\n",
       "    }\n",
       "\n",
       "    .dataframe thead th {\n",
       "        text-align: left;\n",
       "    }\n",
       "\n",
       "    .dataframe tbody tr th {\n",
       "        vertical-align: top;\n",
       "    }\n",
       "</style>\n",
       "<table border=\"1\" class=\"dataframe\">\n",
       "  <thead>\n",
       "    <tr style=\"text-align: right;\">\n",
       "      <th></th>\n",
       "      <th>wkday</th>\n",
       "      <th>N</th>\n",
       "      <th>date</th>\n",
       "    </tr>\n",
       "  </thead>\n",
       "  <tbody>\n",
       "    <tr>\n",
       "      <th>0</th>\n",
       "      <td>0</td>\n",
       "      <td>16650</td>\n",
       "      <td>2013-07-01</td>\n",
       "    </tr>\n",
       "    <tr>\n",
       "      <th>1</th>\n",
       "      <td>1</td>\n",
       "      <td>22745</td>\n",
       "      <td>2013-07-02</td>\n",
       "    </tr>\n",
       "    <tr>\n",
       "      <th>2</th>\n",
       "      <td>2</td>\n",
       "      <td>21864</td>\n",
       "      <td>2013-07-03</td>\n",
       "    </tr>\n",
       "    <tr>\n",
       "      <th>3</th>\n",
       "      <td>3</td>\n",
       "      <td>22326</td>\n",
       "      <td>2013-07-04</td>\n",
       "    </tr>\n",
       "    <tr>\n",
       "      <th>4</th>\n",
       "      <td>4</td>\n",
       "      <td>21842</td>\n",
       "      <td>2013-07-05</td>\n",
       "    </tr>\n",
       "  </tbody>\n",
       "</table>\n",
       "</div>"
      ],
      "text/plain": [
       "   wkday      N       date\n",
       "0      0  16650 2013-07-01\n",
       "1      1  22745 2013-07-02\n",
       "2      2  21864 2013-07-03\n",
       "3      3  22326 2013-07-04\n",
       "4      4  21842 2013-07-05"
      ]
     },
     "execution_count": 2,
     "metadata": {},
     "output_type": "execute_result"
    }
   ],
   "source": [
    "query = \"SELECT year,month,day,wkday,count(*) as N FROM rides GROUP BY year,month,day\"\n",
    "df_rides = pd.read_sql_query(query,con)\n",
    "df_rides['date'] = pd.to_datetime(df_rides[['year','month','day']])\n",
    "df_rides.drop(['year','month','day'],axis=1,inplace=True)\n",
    "df_rides.head()\n"
   ]
  },
  {
   "cell_type": "code",
   "execution_count": 3,
   "metadata": {},
   "outputs": [
    {
     "name": "stdout",
     "output_type": "stream",
     "text": [
      "<class 'pandas.core.frame.DataFrame'>\n",
      "RangeIndex: 1362 entries, 0 to 1361\n",
      "Data columns (total 3 columns):\n",
      "wkday    1362 non-null int64\n",
      "N        1362 non-null int64\n",
      "date     1362 non-null datetime64[ns]\n",
      "dtypes: datetime64[ns](1), int64(2)\n",
      "memory usage: 32.0 KB\n"
     ]
    }
   ],
   "source": [
    "df_rides.info()"
   ]
  },
  {
   "cell_type": "code",
   "execution_count": 4,
   "metadata": {
    "collapsed": true
   },
   "outputs": [],
   "source": [
    "# write to CSV so we don't have to do long query again?\n",
    "df_rides.to_csv('data/rides_dates_all.csv',index=False)"
   ]
  },
  {
   "cell_type": "code",
   "execution_count": 5,
   "metadata": {},
   "outputs": [
    {
     "data": {
      "image/png": "[encoded data removed]",
      "text/plain": [
       "<matplotlib.figure.Figure at 0x1107428d0>"
      ]
     },
     "metadata": {},
     "output_type": "display_data"
    }
   ],
   "source": [
    "plt.figure(figsize=(14,8))\n",
    "plt.plot(df_rides.date, df_rides.N,'.');\n",
    "plt.xlabel('Yearday')\n",
    "plt.ylabel('Total # Rides');"
   ]
  },
  {
   "cell_type": "markdown",
   "metadata": {},
   "source": [
    "## get number of distinct stations each day (a feature)"
   ]
  },
  {
   "cell_type": "code",
   "execution_count": 6,
   "metadata": {},
   "outputs": [
    {
     "data": {
      "text/html": [
       "<div>\n",
       "<style>\n",
       "    .dataframe thead tr:only-child th {\n",
       "        text-align: right;\n",
       "    }\n",
       "\n",
       "    .dataframe thead th {\n",
       "        text-align: left;\n",
       "    }\n",
       "\n",
       "    .dataframe tbody tr th {\n",
       "        vertical-align: top;\n",
       "    }\n",
       "</style>\n",
       "<table border=\"1\" class=\"dataframe\">\n",
       "  <thead>\n",
       "    <tr style=\"text-align: right;\">\n",
       "      <th></th>\n",
       "      <th>N_sta</th>\n",
       "      <th>date</th>\n",
       "    </tr>\n",
       "  </thead>\n",
       "  <tbody>\n",
       "    <tr>\n",
       "      <th>0</th>\n",
       "      <td>326</td>\n",
       "      <td>2013-07-01</td>\n",
       "    </tr>\n",
       "    <tr>\n",
       "      <th>1</th>\n",
       "      <td>327</td>\n",
       "      <td>2013-07-02</td>\n",
       "    </tr>\n",
       "    <tr>\n",
       "      <th>2</th>\n",
       "      <td>326</td>\n",
       "      <td>2013-07-03</td>\n",
       "    </tr>\n",
       "    <tr>\n",
       "      <th>3</th>\n",
       "      <td>324</td>\n",
       "      <td>2013-07-04</td>\n",
       "    </tr>\n",
       "    <tr>\n",
       "      <th>4</th>\n",
       "      <td>325</td>\n",
       "      <td>2013-07-05</td>\n",
       "    </tr>\n",
       "  </tbody>\n",
       "</table>\n",
       "</div>"
      ],
      "text/plain": [
       "   N_sta       date\n",
       "0    326 2013-07-01\n",
       "1    327 2013-07-02\n",
       "2    326 2013-07-03\n",
       "3    324 2013-07-04\n",
       "4    325 2013-07-05"
      ]
     },
     "execution_count": 6,
     "metadata": {},
     "output_type": "execute_result"
    }
   ],
   "source": [
    "query = \"SELECT year,month,day,count(distinct start_station_id) as N_sta FROM rides GROUP BY year,month,day\"\n",
    "df_sta = pd.read_sql_query(query,con)\n",
    "df_sta['date'] = pd.to_datetime(df_sta[['year','month','day']])\n",
    "df_sta.drop(['year','month','day'],axis=1,inplace=True)\n",
    "df_sta.head()"
   ]
  },
  {
   "cell_type": "code",
   "execution_count": 7,
   "metadata": {},
   "outputs": [
    {
     "name": "stdout",
     "output_type": "stream",
     "text": [
      "<class 'pandas.core.frame.DataFrame'>\n",
      "RangeIndex: 1362 entries, 0 to 1361\n",
      "Data columns (total 2 columns):\n",
      "N_sta    1362 non-null int64\n",
      "date     1362 non-null datetime64[ns]\n",
      "dtypes: datetime64[ns](1), int64(1)\n",
      "memory usage: 21.4 KB\n"
     ]
    }
   ],
   "source": [
    "df_sta.info()"
   ]
  },
  {
   "cell_type": "code",
   "execution_count": 8,
   "metadata": {
    "collapsed": true
   },
   "outputs": [],
   "source": [
    "df_sta.to_csv('data/sta_dates_all.csv',index=Falselse)"
   ]
  },
  {
   "cell_type": "code",
   "execution_count": 9,
   "metadata": {},
   "outputs": [
    {
     "data": {
      "image/png": "[encoded data removed]",
      "text/plain": [
       "<matplotlib.figure.Figure at 0x114309828>"
      ]
     },
     "metadata": {},
     "output_type": "display_data"
    }
   ],
   "source": [
    "\n",
    "# Plot # stations vs yday (only counts tations that were used that day, so not necessarily\n",
    "# all stations in service)\n",
    "# NOTE spikes are likely days where not many rides taken\n",
    "# should smooth these?\n",
    "plt.figure(figsize=(14,8))\n",
    "plt.plot(df_sta.date, df_sta.N_sta, '.');\n",
    "plt.xlabel('Yearday')\n",
    "plt.ylabel('# Stations Used');\n",
    "plt.title('Number of stations ');"
   ]
  },
  {
   "cell_type": "markdown",
   "metadata": {},
   "source": [
    "## Get daily weather (features)"
   ]
  },
  {
   "cell_type": "code",
   "execution_count": 10,
   "metadata": {},
   "outputs": [
    {
     "data": {
      "text/html": [
       "<div>\n",
       "<style>\n",
       "    .dataframe thead tr:only-child th {\n",
       "        text-align: right;\n",
       "    }\n",
       "\n",
       "    .dataframe thead th {\n",
       "        text-align: left;\n",
       "    }\n",
       "\n",
       "    .dataframe tbody tr th {\n",
       "        vertical-align: top;\n",
       "    }\n",
       "</style>\n",
       "<table border=\"1\" class=\"dataframe\">\n",
       "  <thead>\n",
       "    <tr style=\"text-align: right;\">\n",
       "      <th></th>\n",
       "      <th>date</th>\n",
       "      <th>Tmean</th>\n",
       "      <th>precip_In</th>\n",
       "      <th>max_gust_mph</th>\n",
       "      <th>cloud_cover</th>\n",
       "    </tr>\n",
       "  </thead>\n",
       "  <tbody>\n",
       "    <tr>\n",
       "      <th>1</th>\n",
       "      <td>2013-01-02</td>\n",
       "      <td>29</td>\n",
       "      <td>0.0</td>\n",
       "      <td>28.0</td>\n",
       "      <td>7</td>\n",
       "    </tr>\n",
       "    <tr>\n",
       "      <th>2</th>\n",
       "      <td>2013-01-03</td>\n",
       "      <td>30</td>\n",
       "      <td>0.0</td>\n",
       "      <td>26.0</td>\n",
       "      <td>5</td>\n",
       "    </tr>\n",
       "    <tr>\n",
       "      <th>3</th>\n",
       "      <td>2013-01-04</td>\n",
       "      <td>36</td>\n",
       "      <td>0.0</td>\n",
       "      <td>31.0</td>\n",
       "      <td>3</td>\n",
       "    </tr>\n",
       "    <tr>\n",
       "      <th>4</th>\n",
       "      <td>2013-01-05</td>\n",
       "      <td>39</td>\n",
       "      <td>0.0</td>\n",
       "      <td>33.0</td>\n",
       "      <td>3</td>\n",
       "    </tr>\n",
       "    <tr>\n",
       "      <th>6</th>\n",
       "      <td>2013-01-07</td>\n",
       "      <td>42</td>\n",
       "      <td>0.0</td>\n",
       "      <td>23.0</td>\n",
       "      <td>1</td>\n",
       "    </tr>\n",
       "  </tbody>\n",
       "</table>\n",
       "</div>"
      ],
      "text/plain": [
       "        date  Tmean  precip_In  max_gust_mph  cloud_cover\n",
       "1 2013-01-02     29        0.0          28.0            7\n",
       "2 2013-01-03     30        0.0          26.0            5\n",
       "3 2013-01-04     36        0.0          31.0            3\n",
       "4 2013-01-05     39        0.0          33.0            3\n",
       "6 2013-01-07     42        0.0          23.0            1"
      ]
     },
     "execution_count": 10,
     "metadata": {},
     "output_type": "execute_result"
    }
   ],
   "source": [
    "con2 = sqlite3.connect('data/nyc_weather.db3')\n",
    "query2 = \"SELECT date,mean_temp as Tmean,precip_In,max_gust_mph,cloud_cover  FROM temps \" \n",
    "df_wea = pd.read_sql_query(query2, con2)\n",
    "df_wea.loc[df_wea.precip_In=='T'] = 0\n",
    "df_wea.loc[:,'precip_In'] = df_wea.astype({'precip_In':'float64'})\n",
    "df_wea['date'] = pd.to_datetime(df_wea['date'])\n",
    "df_wea = df_wea[df_wea.date.dt.year>=2013]\n",
    "df_wea.head()"
   ]
  },
  {
   "cell_type": "code",
   "execution_count": 11,
   "metadata": {},
   "outputs": [
    {
     "name": "stdout",
     "output_type": "stream",
     "text": [
      "<class 'pandas.core.frame.DataFrame'>\n",
      "Int64Index: 1420 entries, 1 to 1658\n",
      "Data columns (total 5 columns):\n",
      "date            1420 non-null datetime64[ns]\n",
      "Tmean           1420 non-null int64\n",
      "precip_In       1420 non-null float64\n",
      "max_gust_mph    1416 non-null float64\n",
      "cloud_cover     1420 non-null int64\n",
      "dtypes: datetime64[ns](1), float64(2), int64(2)\n",
      "memory usage: 66.6 KB\n"
     ]
    }
   ],
   "source": [
    "df_wea.info()"
   ]
  },
  {
   "cell_type": "code",
   "execution_count": 12,
   "metadata": {},
   "outputs": [
    {
     "data": {
      "image/png": "[encoded data removed]",
      "text/plain": [
       "<matplotlib.figure.Figure at 0x1143992e8>"
      ]
     },
     "metadata": {},
     "output_type": "display_data"
    }
   ],
   "source": [
    "plt.figure(figsize=(14,8))\n",
    "plt.plot(df_wea.date, df_wea.Tmean,'.');\n",
    "plt.xlabel('Yearday')\n",
    "plt.ylabel('Mean Temperature');\n",
    "plt.title('Mean temperatures ' );"
   ]
  },
  {
   "cell_type": "markdown",
   "metadata": {},
   "source": [
    "## Join data frames"
   ]
  },
  {
   "cell_type": "code",
   "execution_count": 14,
   "metadata": {},
   "outputs": [
    {
     "data": {
      "text/html": [
       "<div>\n",
       "<style>\n",
       "    .dataframe thead tr:only-child th {\n",
       "        text-align: right;\n",
       "    }\n",
       "\n",
       "    .dataframe thead th {\n",
       "        text-align: left;\n",
       "    }\n",
       "\n",
       "    .dataframe tbody tr th {\n",
       "        vertical-align: top;\n",
       "    }\n",
       "</style>\n",
       "<table border=\"1\" class=\"dataframe\">\n",
       "  <thead>\n",
       "    <tr style=\"text-align: right;\">\n",
       "      <th></th>\n",
       "      <th>wkday</th>\n",
       "      <th>N</th>\n",
       "      <th>date</th>\n",
       "      <th>Tmean</th>\n",
       "      <th>precip_In</th>\n",
       "      <th>max_gust_mph</th>\n",
       "      <th>cloud_cover</th>\n",
       "      <th>N_sta</th>\n",
       "    </tr>\n",
       "  </thead>\n",
       "  <tbody>\n",
       "    <tr>\n",
       "      <th>0</th>\n",
       "      <td>0</td>\n",
       "      <td>16650</td>\n",
       "      <td>2013-07-01</td>\n",
       "      <td>76</td>\n",
       "      <td>0.73</td>\n",
       "      <td>26.0</td>\n",
       "      <td>8</td>\n",
       "      <td>326</td>\n",
       "    </tr>\n",
       "    <tr>\n",
       "      <th>1</th>\n",
       "      <td>1</td>\n",
       "      <td>22745</td>\n",
       "      <td>2013-07-02</td>\n",
       "      <td>78</td>\n",
       "      <td>0.06</td>\n",
       "      <td>23.0</td>\n",
       "      <td>7</td>\n",
       "      <td>327</td>\n",
       "    </tr>\n",
       "    <tr>\n",
       "      <th>2</th>\n",
       "      <td>2</td>\n",
       "      <td>21864</td>\n",
       "      <td>2013-07-03</td>\n",
       "      <td>80</td>\n",
       "      <td>0.96</td>\n",
       "      <td>23.0</td>\n",
       "      <td>7</td>\n",
       "      <td>326</td>\n",
       "    </tr>\n",
       "    <tr>\n",
       "      <th>3</th>\n",
       "      <td>3</td>\n",
       "      <td>22326</td>\n",
       "      <td>2013-07-04</td>\n",
       "      <td>84</td>\n",
       "      <td>0.00</td>\n",
       "      <td>24.0</td>\n",
       "      <td>4</td>\n",
       "      <td>324</td>\n",
       "    </tr>\n",
       "    <tr>\n",
       "      <th>4</th>\n",
       "      <td>4</td>\n",
       "      <td>21842</td>\n",
       "      <td>2013-07-05</td>\n",
       "      <td>85</td>\n",
       "      <td>0.00</td>\n",
       "      <td>23.0</td>\n",
       "      <td>1</td>\n",
       "      <td>325</td>\n",
       "    </tr>\n",
       "  </tbody>\n",
       "</table>\n",
       "</div>"
      ],
      "text/plain": [
       "   wkday      N       date  Tmean  precip_In  max_gust_mph  cloud_cover  N_sta\n",
       "0      0  16650 2013-07-01     76       0.73          26.0            8    326\n",
       "1      1  22745 2013-07-02     78       0.06          23.0            7    327\n",
       "2      2  21864 2013-07-03     80       0.96          23.0            7    326\n",
       "3      3  22326 2013-07-04     84       0.00          24.0            4    324\n",
       "4      4  21842 2013-07-05     85       0.00          23.0            1    325"
      ]
     },
     "execution_count": 14,
     "metadata": {},
     "output_type": "execute_result"
    }
   ],
   "source": [
    "\n",
    "#df_sta.drop(['year','month','day'],axis=1,inplace=True)\n",
    "\n",
    "\n",
    "# join temps to rides data frame\n",
    "df_comb = pd.merge(df_rides,df_wea,left_on='date',right_on='date')\n",
    "# then merge to stations data frame\n",
    "df_comb = pd.merge(df_comb, df_sta, left_on='date',right_on='date')\n",
    "df_comb.head()"
   ]
  },
  {
   "cell_type": "code",
   "execution_count": 15,
   "metadata": {},
   "outputs": [
    {
     "name": "stdout",
     "output_type": "stream",
     "text": [
      "<class 'pandas.core.frame.DataFrame'>\n",
      "Int64Index: 1176 entries, 0 to 1175\n",
      "Data columns (total 8 columns):\n",
      "wkday           1176 non-null int64\n",
      "N               1176 non-null int64\n",
      "date            1176 non-null datetime64[ns]\n",
      "Tmean           1176 non-null int64\n",
      "precip_In       1176 non-null float64\n",
      "max_gust_mph    1173 non-null float64\n",
      "cloud_cover     1176 non-null int64\n",
      "N_sta           1176 non-null int64\n",
      "dtypes: datetime64[ns](1), float64(2), int64(5)\n",
      "memory usage: 82.7 KB\n"
     ]
    }
   ],
   "source": [
    "df_comb.info()"
   ]
  },
  {
   "cell_type": "code",
   "execution_count": null,
   "metadata": {
    "collapsed": true
   },
   "outputs": [],
   "source": []
  },
  {
   "cell_type": "markdown",
   "metadata": {},
   "source": [
    "## create dummy variables for wkday"
   ]
  },
  {
   "cell_type": "code",
   "execution_count": 16,
   "metadata": {},
   "outputs": [
    {
     "data": {
      "text/html": [
       "<div>\n",
       "<style>\n",
       "    .dataframe thead tr:only-child th {\n",
       "        text-align: right;\n",
       "    }\n",
       "\n",
       "    .dataframe thead th {\n",
       "        text-align: left;\n",
       "    }\n",
       "\n",
       "    .dataframe tbody tr th {\n",
       "        vertical-align: top;\n",
       "    }\n",
       "</style>\n",
       "<table border=\"1\" class=\"dataframe\">\n",
       "  <thead>\n",
       "    <tr style=\"text-align: right;\">\n",
       "      <th></th>\n",
       "      <th>N</th>\n",
       "      <th>date</th>\n",
       "      <th>Tmean</th>\n",
       "      <th>precip_In</th>\n",
       "      <th>max_gust_mph</th>\n",
       "      <th>cloud_cover</th>\n",
       "      <th>N_sta</th>\n",
       "      <th>wkday_1</th>\n",
       "      <th>wkday_2</th>\n",
       "      <th>wkday_3</th>\n",
       "      <th>wkday_4</th>\n",
       "      <th>wkday_5</th>\n",
       "      <th>wkday_6</th>\n",
       "    </tr>\n",
       "  </thead>\n",
       "  <tbody>\n",
       "    <tr>\n",
       "      <th>0</th>\n",
       "      <td>16650</td>\n",
       "      <td>2013-07-01</td>\n",
       "      <td>76</td>\n",
       "      <td>0.73</td>\n",
       "      <td>26.0</td>\n",
       "      <td>8</td>\n",
       "      <td>326</td>\n",
       "      <td>0</td>\n",
       "      <td>0</td>\n",
       "      <td>0</td>\n",
       "      <td>0</td>\n",
       "      <td>0</td>\n",
       "      <td>0</td>\n",
       "    </tr>\n",
       "    <tr>\n",
       "      <th>1</th>\n",
       "      <td>22745</td>\n",
       "      <td>2013-07-02</td>\n",
       "      <td>78</td>\n",
       "      <td>0.06</td>\n",
       "      <td>23.0</td>\n",
       "      <td>7</td>\n",
       "      <td>327</td>\n",
       "      <td>1</td>\n",
       "      <td>0</td>\n",
       "      <td>0</td>\n",
       "      <td>0</td>\n",
       "      <td>0</td>\n",
       "      <td>0</td>\n",
       "    </tr>\n",
       "    <tr>\n",
       "      <th>2</th>\n",
       "      <td>21864</td>\n",
       "      <td>2013-07-03</td>\n",
       "      <td>80</td>\n",
       "      <td>0.96</td>\n",
       "      <td>23.0</td>\n",
       "      <td>7</td>\n",
       "      <td>326</td>\n",
       "      <td>0</td>\n",
       "      <td>1</td>\n",
       "      <td>0</td>\n",
       "      <td>0</td>\n",
       "      <td>0</td>\n",
       "      <td>0</td>\n",
       "    </tr>\n",
       "    <tr>\n",
       "      <th>3</th>\n",
       "      <td>22326</td>\n",
       "      <td>2013-07-04</td>\n",
       "      <td>84</td>\n",
       "      <td>0.00</td>\n",
       "      <td>24.0</td>\n",
       "      <td>4</td>\n",
       "      <td>324</td>\n",
       "      <td>0</td>\n",
       "      <td>0</td>\n",
       "      <td>1</td>\n",
       "      <td>0</td>\n",
       "      <td>0</td>\n",
       "      <td>0</td>\n",
       "    </tr>\n",
       "    <tr>\n",
       "      <th>4</th>\n",
       "      <td>21842</td>\n",
       "      <td>2013-07-05</td>\n",
       "      <td>85</td>\n",
       "      <td>0.00</td>\n",
       "      <td>23.0</td>\n",
       "      <td>1</td>\n",
       "      <td>325</td>\n",
       "      <td>0</td>\n",
       "      <td>0</td>\n",
       "      <td>0</td>\n",
       "      <td>1</td>\n",
       "      <td>0</td>\n",
       "      <td>0</td>\n",
       "    </tr>\n",
       "  </tbody>\n",
       "</table>\n",
       "</div>"
      ],
      "text/plain": [
       "       N       date  Tmean  precip_In  max_gust_mph  cloud_cover  N_sta  \\\n",
       "0  16650 2013-07-01     76       0.73          26.0            8    326   \n",
       "1  22745 2013-07-02     78       0.06          23.0            7    327   \n",
       "2  21864 2013-07-03     80       0.96          23.0            7    326   \n",
       "3  22326 2013-07-04     84       0.00          24.0            4    324   \n",
       "4  21842 2013-07-05     85       0.00          23.0            1    325   \n",
       "\n",
       "   wkday_1  wkday_2  wkday_3  wkday_4  wkday_5  wkday_6  \n",
       "0        0        0        0        0        0        0  \n",
       "1        1        0        0        0        0        0  \n",
       "2        0        1        0        0        0        0  \n",
       "3        0        0        1        0        0        0  \n",
       "4        0        0        0        1        0        0  "
      ]
     },
     "execution_count": 16,
     "metadata": {},
     "output_type": "execute_result"
    }
   ],
   "source": [
    "# NOTE drop_first drops redundant column from dummy vars\n",
    "df_comb = pd.get_dummies(data=df_comb, columns=['wkday'],drop_first=True)\n",
    "df_comb.head()"
   ]
  },
  {
   "cell_type": "markdown",
   "metadata": {},
   "source": [
    "## split data into predictor/target arrays in prep for modelling"
   ]
  },
  {
   "cell_type": "code",
   "execution_count": null,
   "metadata": {},
   "outputs": [],
   "source": [
    "X = df_comb.drop(['date','N'], axis=1)\n",
    "X.head()"
   ]
  },
  {
   "cell_type": "code",
   "execution_count": null,
   "metadata": {},
   "outputs": [],
   "source": []
  },
  {
   "cell_type": "code",
   "execution_count": null,
   "metadata": {},
   "outputs": [],
   "source": [
    "y = df_comb['N']\n",
    "y.head()"
   ]
  },
  {
   "cell_type": "markdown",
   "metadata": {},
   "source": [
    "## Split data into training/test sets"
   ]
  },
  {
   "cell_type": "code",
   "execution_count": null,
   "metadata": {
    "collapsed": true
   },
   "outputs": [],
   "source": [
    "from sklearn.model_selection import train_test_split\n",
    "X_train, X_test, y_train, y_test = train_test_split(X,y,test_size= 0.3, random_state=39)"
   ]
  },
  {
   "cell_type": "markdown",
   "metadata": {},
   "source": [
    "## Linear Regression"
   ]
  },
  {
   "cell_type": "code",
   "execution_count": null,
   "metadata": {},
   "outputs": [],
   "source": [
    "from sklearn.linear_model import LinearRegression\n",
    "from sklearn.preprocessing import Imputer\n",
    "from sklearn.model_selection import cross_val_score\n",
    "\n",
    "#imp = Imputer(strategy='most_frequent')\n",
    "imp = Imputer(strategy='mean')\n",
    "imp.fit(X_train)\n",
    "X_train = imp.transform(X_train)\n",
    "X_test =imp.transform(X_test)\n",
    "X_all = imp.transform(X)\n",
    "\n",
    "reg = LinearRegression()\n",
    "reg.fit(X_train,y_train)\n",
    "preds = reg.predict(X_test)\n",
    "np.mean(cross_val_score(reg,X_train,y_train))"
   ]
  },
  {
   "cell_type": "code",
   "execution_count": null,
   "metadata": {},
   "outputs": [],
   "source": [
    "# score on training set\n",
    "reg.score(X_train,y_train)"
   ]
  },
  {
   "cell_type": "code",
   "execution_count": null,
   "metadata": {},
   "outputs": [],
   "source": [
    "# score on test set\n",
    "reg.score(X_test,y_test)"
   ]
  },
  {
   "cell_type": "code",
   "execution_count": null,
   "metadata": {},
   "outputs": [],
   "source": [
    "# plot predictions vs actual values\n",
    "plt.figure(figsize=(12,8))\n",
    "#plt.scatter(y_test,preds)\n",
    "sns.regplot(y_test,preds)\n",
    "plt.xlabel('actual values')\n",
    "plt.ylabel('predictions');"
   ]
  },
  {
   "cell_type": "code",
   "execution_count": null,
   "metadata": {},
   "outputs": [],
   "source": [
    "# Examine coefficients\n",
    "coefs = pd.DataFrame({'vars':X.columns,'coef':reg.coef_})\n",
    "coefs.sort_values('coef',ascending=False)"
   ]
  },
  {
   "cell_type": "code",
   "execution_count": null,
   "metadata": {},
   "outputs": [],
   "source": [
    "plt.figure(figsize=(14,8))\n",
    "plt.plot(y,'kd',label='Actual')\n",
    "plt.plot(reg.predict(X_all),'r.',label='Model')\n",
    "plt.legend();\n",
    "plt.xlabel('Yearday')\n",
    "plt.ylabel('# Daily Rides')\n",
    "#plt.title(str(year));\n",
    "plt.savefig('figures/reg_vs_actual_timeseries.pdf')"
   ]
  },
  {
   "cell_type": "code",
   "execution_count": null,
   "metadata": {},
   "outputs": [],
   "source": [
    "plt.figure(figsize=(14,8))\n",
    "#plt.plot(y,label='Actual')\n",
    "plt.plot(y-reg.predict(X_all),'o')\n",
    "#plt.legend();\n",
    "plt.xlabel('Yearday')\n",
    "plt.ylabel('Residual # Daily Rides')\n",
    "plt.title('Model Residuals ');\n",
    "plt.hlines(xmin=0,xmax=1200,y=0);\n",
    "plt.ylim(-25000,15000)"
   ]
  },
  {
   "cell_type": "markdown",
   "metadata": {},
   "source": [
    "### Try a random forest regression"
   ]
  },
  {
   "cell_type": "code",
   "execution_count": null,
   "metadata": {},
   "outputs": [],
   "source": [
    "from sklearn.ensemble import RandomForestRegressor\n",
    "rf = RandomForestRegressor(n_estimators=50)\n",
    "rf.fit(X_train,y_train)\n",
    "np.mean(cross_val_score(rf,X_train,y_train))"
   ]
  },
  {
   "cell_type": "code",
   "execution_count": null,
   "metadata": {},
   "outputs": [],
   "source": [
    "rf.score(X_train, y_train)"
   ]
  },
  {
   "cell_type": "code",
   "execution_count": null,
   "metadata": {},
   "outputs": [],
   "source": [
    "plt.figure(figsize=(14,8))\n",
    "#plt.plot(y,label='Actual')\n",
    "plt.plot(y-reg.predict(X_all),'k',label='LinReg')\n",
    "plt.plot(y-rf.predict(X_all),'r',label='RF')\n",
    "plt.legend();\n",
    "plt.xlabel('Yearday')\n",
    "plt.ylabel('Residual # Daily Rides')\n",
    "plt.title('Model Residuals ');\n",
    "plt.hlines(xmin=0,xmax=360,y=0);\n",
    "plt.ylim(-25000,20000)"
   ]
  },
  {
   "cell_type": "code",
   "execution_count": null,
   "metadata": {},
   "outputs": [],
   "source": [
    "rf_imp = pd.DataFrame({'vars':X.columns,'imp':rf.feature_importances_})\n",
    "rf_imp.sort_values('imp',ascending=False)"
   ]
  },
  {
   "cell_type": "markdown",
   "metadata": {},
   "source": [
    "### Look at dates of residuals to see if any are holidays etc:"
   ]
  },
  {
   "cell_type": "code",
   "execution_count": null,
   "metadata": {},
   "outputs": [],
   "source": [
    "X2 = df_comb.copy()\n",
    "X2['resid'] = y - reg.predict(X_all)\n",
    "X2.head()"
   ]
  },
  {
   "cell_type": "code",
   "execution_count": null,
   "metadata": {},
   "outputs": [],
   "source": [
    "X2[['resid','date']].sort_values('resid').head(10)"
   ]
  },
  {
   "cell_type": "code",
   "execution_count": null,
   "metadata": {},
   "outputs": [],
   "source": [
    "X2[['resid','date']].sort_values('resid').tail(10)"
   ]
  },
  {
   "cell_type": "code",
   "execution_count": null,
   "metadata": {},
   "outputs": [],
   "source": []
  },
  {
   "cell_type": "code",
   "execution_count": null,
   "metadata": {},
   "outputs": [],
   "source": []
  },
  {
   "cell_type": "markdown",
   "metadata": {},
   "source": [
    "Below we can see that some of the largest residuals occurred on or near holidays (Thanksgiving, Christmas etc.). So we should probably include holidays as a predictor."
   ]
  },
  {
   "cell_type": "markdown",
   "metadata": {},
   "source": [
    "### Get holidays"
   ]
  },
  {
   "cell_type": "code",
   "execution_count": null,
   "metadata": {},
   "outputs": [],
   "source": [
    "query = \"SELECT * FROM holidays WHERE public=1 \"\n",
    "df_holi['date'] = pd.to_datetime(df_holi.date)\n",
    "df_holi['observed'] = pd.to_datetime(df_holi.observed)\n",
    "df_holi = pd.read_sql_query(query,con)\n",
    "df_holi.head()"
   ]
  },
  {
   "cell_type": "code",
   "execution_count": null,
   "metadata": {},
   "outputs": [],
   "source": [
    "# Merge holidays w/ X2\n",
    "X2 = X2.merge(df_holi,left_on='date',right_on='observed',how='left')\n",
    "X2.public.fillna(0,inplace=True)\n",
    "X2.sort_values('resid').head(10)\n"
   ]
  },
  {
   "cell_type": "code",
   "execution_count": null,
   "metadata": {},
   "outputs": [],
   "source": []
  },
  {
   "cell_type": "code",
   "execution_count": null,
   "metadata": {},
   "outputs": [],
   "source": []
  },
  {
   "cell_type": "code",
   "execution_count": null,
   "metadata": {},
   "outputs": [],
   "source": [
    "plt.plot(df_holi.date,df_holi.public,'.')"
   ]
  },
  {
   "cell_type": "code",
   "execution_count": null,
   "metadata": {},
   "outputs": [],
   "source": [
    "# plot residuals and holidays\n",
    "plt.figure(figsize=(14,8))\n",
    "plt.plot(X2.date,X2.resid,'.')\n",
    "#ax=plt.gca()\n",
    "ax.vlines(df_holi['date'],-25000,15000)\n",
    "plt.xlabel('Yearday ' )\n",
    "plt.ylabel('Model Residual')\n",
    "plt.title('Model Residual (not including holidays) w/ Holidays Marked')\n",
    "#plt.savefig('figures/2016_linreg_resids_holi_timeseries.pdf')"
   ]
  },
  {
   "cell_type": "markdown",
   "metadata": {},
   "source": [
    "## Add holiday to features"
   ]
  },
  {
   "cell_type": "code",
   "execution_count": null,
   "metadata": {},
   "outputs": [],
   "source": [
    "X3 = X2.copy()\n",
    "X3.drop(['yday_x','yday_y','month','day','date','year_x','name','observed','year_y','resid','N','yday'],axis=1,inplace=True)\n",
    "#X2.drop('resid',inplace=True,axis=1)\n",
    "#X2.drop('yday',axis=1,inplace=True)\n",
    "X3.head()"
   ]
  },
  {
   "cell_type": "code",
   "execution_count": null,
   "metadata": {},
   "outputs": [],
   "source": [
    "# split into training/testing again, using X2 this time\n",
    "X_train, X_test, y_train, y_test = train_test_split(X3,y,test_size= 0.3, random_state=39)\n",
    "imp=Imputer()\n",
    "imp.fit(X_train)\n",
    "X_train = imp.transform(X_train)\n",
    "X_test = imp.transform(X_test)\n",
    "reg2 = LinearRegression()\n",
    "reg2.fit(X_train,y_train)\n",
    "np.mean(cross_val_score(reg2,X_train,y_train))\n",
    "#reg2.score(X_test,y_test)"
   ]
  },
  {
   "cell_type": "code",
   "execution_count": null,
   "metadata": {},
   "outputs": [],
   "source": [
    "reg2.score(X_test,y_test)"
   ]
  },
  {
   "cell_type": "code",
   "execution_count": null,
   "metadata": {},
   "outputs": [],
   "source": [
    "coefs = pd.DataFrame({'vars':X3.columns,'coef':reg2.coef_})\n",
    "coefs.sort_values('coef')"
   ]
  },
  {
   "cell_type": "markdown",
   "metadata": {},
   "source": [
    "### adding holidays doesn't seem to improve the model much?. It looks like a lot of the big residueals occur a day or two before/after holidays; maybe try making a 'near holiday' variable?\n",
    "- example: 2 days before/after Thanksgiving\n",
    "- last days of December (people likely take long weekend before New years\n",
    "- Xmas in 2016 was 'observed' on the 26th. Need to modify holiday df to include both actual and observed dates for holidays?"
   ]
  },
  {
   "cell_type": "markdown",
   "metadata": {},
   "source": [
    "### Try random forest regressor\n",
    "- Maybe random forest will bettter capture the holiday? Doesn't really make sense that holiday would be well-represented by a linear model?"
   ]
  },
  {
   "cell_type": "code",
   "execution_count": null,
   "metadata": {},
   "outputs": [],
   "source": [
    "from sklearn.ensemble import RandomForestRegressor\n",
    "\n",
    "rf = RandomForestRegressor()\n",
    "rf.fit(X_train,y_train)\n",
    "np.mean(cross_val_score(rf,X_train,y_train))"
   ]
  },
  {
   "cell_type": "code",
   "execution_count": null,
   "metadata": {},
   "outputs": [],
   "source": [
    "rf.score(X_test,y_test)"
   ]
  },
  {
   "cell_type": "code",
   "execution_count": null,
   "metadata": {},
   "outputs": [],
   "source": [
    "# optimize RF\n",
    "from sklearn.model_selection import GridSearchCV\n",
    "params = {'n_estimators':[10,50,100,150],'min_samples_split':[2,5,10]}\n",
    "rf = RandomForestRegressor()\n",
    "cv = GridSearchCV(rf,params)\n",
    "cv.fit(X_train,y_train)\n",
    "np.mean(cross_val_score(cv.best_estimator_,X_train,y_train))"
   ]
  },
  {
   "cell_type": "code",
   "execution_count": null,
   "metadata": {},
   "outputs": [],
   "source": [
    "cv.best_estimator_.score(X_test,y_test)"
   ]
  },
  {
   "cell_type": "code",
   "execution_count": null,
   "metadata": {},
   "outputs": [],
   "source": [
    "cv.best_estimator_"
   ]
  },
  {
   "cell_type": "code",
   "execution_count": null,
   "metadata": {},
   "outputs": [],
   "source": [
    "# plot residuals for Linear regression and RF\n",
    "plt.figure(figsize=(14,8))\n",
    "#plt.plot(y,label='Actual')\n",
    "plt.plot(y-reg.predict(X_all),label='LinReg')\n",
    "plt.plot(y-cv.best_estimator_.predict(Imputer().fit_transform(X3)),label='RFreg')\n",
    "plt.legend();\n",
    "plt.xlabel('Yearday')\n",
    "plt.ylabel('Residual # Daily Rides')\n",
    "plt.title('Model Residuals ');\n",
    "plt.hlines(xmin=0,xmax=360,y=0);\n",
    "plt.ylim(-30000,15000)\n",
    "#plt.savefig('figures/2016_resids_lin_rf_timeseries.pdf')"
   ]
  },
  {
   "cell_type": "markdown",
   "metadata": {},
   "source": [
    "Random forest regressor seems to be better"
   ]
  },
  {
   "cell_type": "code",
   "execution_count": null,
   "metadata": {
    "collapsed": true
   },
   "outputs": [],
   "source": []
  },
  {
   "cell_type": "code",
   "execution_count": null,
   "metadata": {
    "collapsed": true
   },
   "outputs": [],
   "source": []
  },
  {
   "cell_type": "markdown",
   "metadata": {},
   "source": [
    "## To do:\n",
    "- Try adding interactions between the variables?\n",
    "- Try ridge or lasso regression?\n",
    "- Do for all 3 years\n",
    "- remove outliers in # stations?"
   ]
  },
  {
   "cell_type": "code",
   "execution_count": null,
   "metadata": {
    "collapsed": true
   },
   "outputs": [],
   "source": []
  },
  {
   "cell_type": "code",
   "execution_count": null,
   "metadata": {
    "collapsed": true
   },
   "outputs": [],
   "source": []
  },
  {
   "cell_type": "markdown",
   "metadata": {},
   "source": [
    "# NOTE below old, not updated yet..."
   ]
  },
  {
   "cell_type": "code",
   "execution_count": null,
   "metadata": {
    "collapsed": true
   },
   "outputs": [],
   "source": []
  },
  {
   "cell_type": "code",
   "execution_count": null,
   "metadata": {
    "collapsed": true
   },
   "outputs": [],
   "source": []
  },
  {
   "cell_type": "markdown",
   "metadata": {},
   "source": [
    "## Try adding interactions between the variables?"
   ]
  },
  {
   "cell_type": "code",
   "execution_count": null,
   "metadata": {},
   "outputs": [],
   "source": [
    "from sklearn.preprocessing import PolynomialFeatures\n",
    "poly = PolynomialFeatures(interaction_only=True)\n",
    "#poly.fit_transform(X)\n",
    "#poly.get_feature_names()\n",
    "#inter.shape\n",
    "poly_df = pd.DataFrame.from_records(poly.fit_transform(X),columns=poly.get_feature_names())\n",
    "poly_df.head()"
   ]
  },
  {
   "cell_type": "code",
   "execution_count": null,
   "metadata": {
    "collapsed": true
   },
   "outputs": [],
   "source": [
    "X_int = pd.concat([X,poly_df],axis=1)\n",
    "X_int.head()"
   ]
  },
  {
   "cell_type": "code",
   "execution_count": null,
   "metadata": {
    "collapsed": true
   },
   "outputs": [],
   "source": [
    "X_train, X_test, y_train, y_test = train_test_split(X_int,y,test_size= 0.3, random_state=39)\n",
    "reg_int = LinearRegression()\n",
    "reg_int.fit(X_train,y_train)\n",
    "preds = reg_int.predict(X_test)\n",
    "cross_val_score(reg_int,X_train,y_train)\n",
    "reg_int.score(X_test,y_test)\n",
    "#X_test.shape"
   ]
  },
  {
   "cell_type": "code",
   "execution_count": null,
   "metadata": {
    "collapsed": true
   },
   "outputs": [],
   "source": []
  },
  {
   "cell_type": "code",
   "execution_count": null,
   "metadata": {
    "collapsed": true
   },
   "outputs": [],
   "source": []
  },
  {
   "cell_type": "markdown",
   "metadata": {},
   "source": []
  },
  {
   "cell_type": "code",
   "execution_count": null,
   "metadata": {
    "collapsed": true
   },
   "outputs": [],
   "source": []
  },
  {
   "cell_type": "markdown",
   "metadata": {},
   "source": []
  },
  {
   "cell_type": "markdown",
   "metadata": {},
   "source": [
    "## Next i'll try some linear regression models w/ regularization, which shoud reduce overfitting."
   ]
  },
  {
   "cell_type": "markdown",
   "metadata": {},
   "source": [
    "### Ridge Regression\n",
    "Ridge regression can shrink the coefficients close to, but not exactly zero."
   ]
  },
  {
   "cell_type": "code",
   "execution_count": null,
   "metadata": {
    "collapsed": true
   },
   "outputs": [],
   "source": [
    "from sklearn.linear_model import Ridge\n",
    "rid = Ridge()\n",
    "rid.fit(X_train,y_train)\n",
    "preds = rid.predict(X_test)\n",
    "rid.score(X_train,y_train)"
   ]
  },
  {
   "cell_type": "code",
   "execution_count": null,
   "metadata": {
    "collapsed": true
   },
   "outputs": [],
   "source": [
    "np.mean(cross_val_score(rid,X_train,y_train))"
   ]
  },
  {
   "cell_type": "code",
   "execution_count": null,
   "metadata": {
    "collapsed": true
   },
   "outputs": [],
   "source": [
    "rid.score(X_test,y_test)"
   ]
  },
  {
   "cell_type": "code",
   "execution_count": null,
   "metadata": {
    "collapsed": true
   },
   "outputs": [],
   "source": [
    "coefs = pd.DataFrame({'vars':X.columns,'coef':rid.coef_})\n",
    "coefs.sort_values('coef')"
   ]
  },
  {
   "cell_type": "code",
   "execution_count": null,
   "metadata": {
    "collapsed": true
   },
   "outputs": [],
   "source": [
    "plt.figure(figsize=(12,8))\n",
    "plt.scatter(y_test,preds)\n",
    "plt.xlabel('actual value')\n",
    "plt.ylabel('prediction');"
   ]
  },
  {
   "cell_type": "code",
   "execution_count": null,
   "metadata": {
    "collapsed": true
   },
   "outputs": [],
   "source": [
    "cross_val_score(rid,X_train,y_train)"
   ]
  },
  {
   "cell_type": "code",
   "execution_count": null,
   "metadata": {
    "collapsed": true
   },
   "outputs": [],
   "source": [
    "# look at residuals\n",
    "plt.figure(figsize=(12,8))\n",
    "preds = rid.predict(X)\n",
    "resids = y-preds\n",
    "plt.scatter(y,resids);\n",
    "plt.xlabel('actual value')\n",
    "plt.ylabel('residuals');\n",
    "# looks like error/residual is corellated with y value\n",
    "# model overestimates low values, and overestimates larger values??"
   ]
  },
  {
   "cell_type": "markdown",
   "metadata": {},
   "source": [
    "Ridge model has parameter *alpha* we can tune, which controls the strength of the regularization; use GridSearchCV to try to optimize:"
   ]
  },
  {
   "cell_type": "code",
   "execution_count": null,
   "metadata": {
    "collapsed": true
   },
   "outputs": [],
   "source": [
    "from sklearn.model_selection import GridSearchCV\n",
    "rid = Ridge()\n",
    "params = {'alpha':[0.1, 0.5, 1,2,5, 100]}\n",
    "cv_rid = GridSearchCV(rid,params)\n",
    "cv_rid.fit(X_train,y_train)\n",
    "cv_rid.best_params_"
   ]
  },
  {
   "cell_type": "code",
   "execution_count": null,
   "metadata": {
    "collapsed": true
   },
   "outputs": [],
   "source": [
    "cv_rid.best_score_"
   ]
  },
  {
   "cell_type": "code",
   "execution_count": null,
   "metadata": {
    "collapsed": true
   },
   "outputs": [],
   "source": [
    "# score on test set\n",
    "cv_rid.score(X_test,y_test)"
   ]
  },
  {
   "cell_type": "markdown",
   "metadata": {},
   "source": [
    "### Lasso\n",
    "In Lasso, some of the coefficients can actually be set to zero."
   ]
  },
  {
   "cell_type": "code",
   "execution_count": null,
   "metadata": {
    "collapsed": true
   },
   "outputs": [],
   "source": [
    "# try lasso\n",
    "from sklearn.linear_model import Lasso\n",
    "las = Lasso(max_iter=4000)\n",
    "params = {'alpha':[0.1, 0.5, 1,2,10, 100]}\n",
    "cv_las = GridSearchCV(las,params)\n",
    "cv_las.fit(X_train,y_train)\n",
    "cv_las.best_params_\n",
    "#cv_las.best_score_"
   ]
  },
  {
   "cell_type": "code",
   "execution_count": null,
   "metadata": {
    "collapsed": true
   },
   "outputs": [],
   "source": [
    "cv_las.score(X_test,y_test)"
   ]
  },
  {
   "cell_type": "code",
   "execution_count": null,
   "metadata": {
    "collapsed": true
   },
   "outputs": [],
   "source": [
    "plt.figure(figsize=(12,8))\n",
    "#plt.scatter(y_test,cv_las.predict(X_test));\n",
    "sns.regplot(y_test,cv_las.predict(X_test));\n",
    "plt.xlabel('actual value')\n",
    "plt.ylabel('prediction')"
   ]
  },
  {
   "cell_type": "code",
   "execution_count": null,
   "metadata": {
    "collapsed": true
   },
   "outputs": [],
   "source": [
    "plt.figure(figsize=(10,8))\n",
    "#plt.scatter(y_test,y_test-cv_las.predict(X_test));\n",
    "sns.regplot(y_test,y_test-cv_las.predict(X_test));\n",
    "plt.xlabel('actual value')\n",
    "plt.ylabel('residual')"
   ]
  },
  {
   "cell_type": "code",
   "execution_count": null,
   "metadata": {
    "collapsed": true
   },
   "outputs": [],
   "source": [
    "# compare test-set scores of all3\n",
    "print('LinReg test score: ' + str(reg.score(X_test,y_test)))\n",
    "print('ridge test score: ' + str(cv_rid.score(X_test,y_test)))\n",
    "print('Lasso test score: ' + str(cv_las.score(X_test,y_test)))\n"
   ]
  },
  {
   "cell_type": "markdown",
   "metadata": {},
   "source": [
    "In this case, Ridge and Lasso don't give much of an imporvement over simple linear regression. All 3 models get a R^2 score of about 0.78-0.79 on the test data."
   ]
  },
  {
   "cell_type": "code",
   "execution_count": null,
   "metadata": {
    "collapsed": true
   },
   "outputs": [],
   "source": []
  }
 ],
 "metadata": {
  "kernelspec": {
   "display_name": "Python 3",
   "language": "python",
   "name": "python3"
  },
  "language_info": {
   "codemirror_mode": {
    "name": "ipython",
    "version": 3
   },
   "file_extension": ".py",
   "mimetype": "text/x-python",
   "name": "python",
   "nbconvert_exporter": "python",
   "pygments_lexer": "ipython3",
   "version": "3.6.1"
  }
 },
 "nbformat": 4,
 "nbformat_minor": 2
}
